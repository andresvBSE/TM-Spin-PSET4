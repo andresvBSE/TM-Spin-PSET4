{
 "cells": [
  {
   "cell_type": "markdown",
   "id": "1f7ce03c",
   "metadata": {},
   "source": [
    "# Text Mining: Models and Algorithms\n",
    "## Homework 4: Be the Spindoctor!\n",
    "\n",
    "Imagine you are a spindoctor for one of the UK parties. \n",
    "\n",
    "1) Develop a dictionary of \"spin\" that politicians have developed in their tweets, i.e. terms that politicians adopt to push specific issues or wordings that stick and influence the debate on an issue. Explain how you construct your dictionary and why this captures the idea of spin.\n",
    "\n",
    "2) Apply your dictionary to the larger UK tweet repository - do you find the result satisfactory? Can you show an example of how your political party tried to push an agenda with different members of parliament at the same time?\n",
    "\n",
    "3) Try to capture the effect of spin on interactions on twitter. Think about a regression framework that would allow you to control for confounders. This will be highly imperfect no matter what you do, given the time-span of the data, but try to do the best you can.\n",
    "\n"
   ]
  },
  {
   "cell_type": "code",
   "execution_count": 1,
   "id": "95ba5813",
   "metadata": {},
   "outputs": [],
   "source": [
    "from hw4module import *"
   ]
  },
  {
   "cell_type": "markdown",
   "id": "15359567",
   "metadata": {},
   "source": [
    "### Part 1 - constructing a dictionary \n",
    "\n",
    "We decided to look at tweets from the UK Labour Party to construct our dictionary. \n",
    "\n",
    "The corpus of tweets is over a relatively small window of time, so constructing a dictionary of political spin will be highly context specific. \n",
    "\n",
    "The dictionary we have extracted from the corpus is based on the 'vomit principle', where politicians repeat a term often enough for it to become part of the public discourse. In practice, this means extracting short-phrases repeated frequently by labour politicians and using those to construct a dictionary that identifies tweets that are likely to be related to spin. As we will see below, this successfully identifies some topics at the time that could be viewed as 'scandals' that the Labour party used to try and damage the Conservative party. Given the relatively limited number of tools we have developed so far and the complexity of identifying political spin without some sort of labelled dataset, this is an appropriate approximation for our dictionary.\n",
    "\n",
    "As an additional exercise, we use media attachments as a proxy to label tweets as spin and repeat our analysis.\n",
    "\n",
    "Overall we find under both methods that tweets labelled as spin show a large statistically signficant increase in interactions (measured as likes, quotes, retweets and replies). The results are more convincing for the dictionary, which labels a larger number of tweets as spim. The method using media attachments also showed an increase in interactions for likes and replies, though are estimates were not precise enough to say anything concrete about the other types of interactions. \n",
    "\n",
    "https://theconversation.com/the-vomit-principle-the-dead-bat-the-freeze-how-political-spin-doctors-tactics-aim-to-shape-the-news-106453"
   ]
  },
  {
   "cell_type": "markdown",
   "id": "044a4eda",
   "metadata": {},
   "source": [
    "First, we clean up the text body of the tweets, which included removing user mentions and emojis. We then vectorize the data, extracting ngrams of length 4. This was a hyperparameter that we tuned, and lengths 4-6 identified similar events that could be characterised as spin in our corpus. We then took the 100 most common ngrams of length 4 and assign the dictionary as the unique words in these ngrams. The dictionary appears as a list below: "
   ]
  },
  {
   "cell_type": "code",
   "execution_count": 2,
   "id": "1ef34c14",
   "metadata": {},
   "outputs": [
    {
     "name": "stdout",
     "output_type": "stream",
     "text": [
      "['saveournhs', 'control', 'face', 'untrustworthy', 'na', 'pocket', 'million', 'video', 'labour', 'britain', 'ago', 'save', 'nvote', 'nigel', 'month', 'prepared', 'state', 'hospital', 'nandrew', 'longer', 'congratulations', 'scared', 'ge2019', 'nwake', 'theresa', 'floor', 'grabbed', 'statsofshame', 'forced', 'pneumonia', 'commit', 'saying', 'issues', 'lists', 'bring', 'personal', 'brexit', 'december', 'parliament', 'tried', 'said', 'social', 'come', 'deemed', 'austerity', 'rough', 'coats', 'phone', 'today', 'picture', 'confidence', 'denial', 'entry', 'attorney', 'fully', 'matters', 'legal', 'general', 'people', 'sleeping', 'parlipuboty', 'home', 'years', 'end', 'government', 'bad', 'door', 'works', 'farage', 'lie', 'care', 'challenge', 'just', 'vote', 'jack', 'pm', 'knows', 'green', 'running', 'provide', 'free', 'mr', 'old', 'generalelection2019', 'thursday', 'nhs', 'seven', 'sell', 'country', 'tories', '12', 'nthe', 'things', 'waiting', 'likes', 'neil', 'elected', 'getting', 'doesn', 'oven', 'lose', 'suspected', 'barr', 'nit', '14', 'votelabourtoday', 'view', 'interview', 'year', 'nsource', 'poverty', 'votelabour', 'advice', 'williment', 'ready', 'questions', 'deal', 'uk', 'unacceptable', 'constituency', '100', 'johnson', 'paper', 'pile', 'nshe', 'botched', 'pmqs', 'say', 'member', 'child', 'wait', 'late', 'leeds', 'working', 'prove', 'boris']\n"
     ]
    }
   ],
   "source": [
    "print(dictionary)"
   ]
  },
  {
   "cell_type": "markdown",
   "id": "8fd50a68",
   "metadata": {},
   "source": [
    "### Part 2 - apply dictionary to corpus\n",
    "\n",
    "We extracted tweets at least one word in the spin dictionary is matched the body of the tweet. Some examples of matches appear below.\n",
    "\n",
    "The first example relates to a scandal where a photo emerged of a sick boy lying on the floor of a hospital for hours while waiting to be attended by doctors. The Labour party used this incident to attack Tories on the quality of the NHS. The issue is a good example of political spin because it was alleged that the photo was faked.\n",
    "\n",
    "The second example below relates to the 'Theresa May's botched Brexit deal', which is a clear example of alliterative spin."
   ]
  },
  {
   "cell_type": "code",
   "execution_count": 3,
   "id": "dd07944a",
   "metadata": {},
   "outputs": [
    {
     "data": {
      "text/plain": [
       "['@usermention That’s a complete lie - the people losing are my friends and #labourfamily. Please don’t insult my staff by saying such things because you disagree with me politically.',\n",
       " 'This is for our children forced to lie on hospital floors.\\\\n\\\\nThis is for Grenfell.\\\\n\\\\nThis is for the homeless sleeping out in the cold.\\\\n\\\\nThis is for our NHS.\\\\n\\\\nThis is for our planet that is crying out to be rescued.\\\\n\\\\nThis is for you. \\\\n\\\\n#VoteLabour',\n",
       " 'Oh fuck. This is nuclear.\\\\n\\\\nThe BBC have just reported that the Tory Health Secretary was friends with family linked to the fake news scandal surrounding baby Jack, the 4 year old suffering pneumonia lying on a hospital floor. [url]',\n",
       " 'If you don’t believe a 4-year old boy would have to lie down on an A&E floor then this thread is for you. \\\\n\\\\n1) The four hour target for patients to be seen, treated and transferred hasn’t been met in years and is at its worst ever. [url]',\n",
       " \"Pretty monstrous to accuse the parents of a sick four-year-old boy forced to sleep on the floor of a hospital of faking the photo. @usermention this a new low even for you. And I suspect it's also libellous. [url]\",\n",
       " 'This never happened.\\\\n\\\\nInvented by the Tories to divert your attention from a child having to lie on a hospital floor; reported by media that didn’t bother to check if it was true.\\\\n\\\\nThis is what media bias looks like. [url]',\n",
       " 'Get Boris GONE!!\\\\nBoris Johnson couldn’t even look at 4 year old Jack lying on the floor with pneumonia devastating collapse of our NHS by 9 years of Tory rule [url]',\n",
       " 'This never happened.\\\\n\\\\nInvented by the Tories to divert your attention from a child having to lie on a hospital floor; reported by media that didn’t bother to check if it was true.\\\\n\\\\nThis is what media bias looks like. [url]',\n",
       " 'Tried to show @usermention the picture of Jack Williment-Barr. The 4-year-old with suspected pneumonia forced to lie on a pile of coats on the floor of a Leeds hospital.\\\\n\\\\nThe PM grabbed my phone and put it in his pocket[emoji]',\n",
       " 'The defining moment of this election.\\\\n\\\\nITV reporter @usermention shows @usermention a picture of the sick 4 year old forced to lie on coats on the floor of a desperately underfunded, understaffed A&E.\\\\n\\\\nJohnson refuses to look & pockets the phone.\\\\n\\\\nFor shame [emoji][emoji]',\n",
       " \"UK Prime Minister Boris Johnson grabbed a reporter's phone and refused to look at a photograph of a four-year-old boy with suspected pneumonia, forced to lie on a hospital emergency room floor as he waited for a bed. [url]\",\n",
       " 'Tried to show @usermention the picture of Jack Williment-Barr. The 4-year-old with suspected pneumonia forced to lie on a pile of coats on the floor of a Leeds hospital.\\\\n\\\\nThe PM grabbed my phone and put it in his pocket[emoji]',\n",
       " 'Johnson and the Tories lie and they cheat to manipulate the media. A sick child treated on the floor of a hospital and they try divert attention with a dead cat lie story. Never has our politics sunk so low in our country since Johnson took over. [url]',\n",
       " '.@usermention It is hard to imagine a more heartless response to being shown a photo of a 4-year-old with suspected pneumonia forced to sleep on the floor of a hospital, due to chronic underfunding, than pivoting yet again to your Brexit lines.\\\\n[url]',\n",
       " 'Tried to show @usermention the picture of Jack Williment-Barr. The 4-year-old with suspected pneumonia forced to lie on a pile of coats on the floor of a Leeds hospital.\\\\n\\\\nThe PM grabbed my phone and put it in his pocket[emoji]',\n",
       " \"A four-year-old boy from Leeds was forced to sleep on the hospital floor because the Tories have cut our NHS to the bone.\\\\n\\\\nBoris Johnson takes the reporter's phone so he can avoid seeing the consequences of his actions. Heartless. [url]\",\n",
       " 'Jack Williment- Barr left to lie on coats for hours in a Leeds hospital. His refusal to look at the picture of Jack is Johnson saying \"I don\\'t want to own this\". This is certainly the political moment of the day and could be the moment of the campaign.',\n",
       " 'Each interview Boris Johnson turns up at he is a disaster,latest one involves grabbing a Journalists mobile so he doesn’t have to face criticism and look at a picture of a poorly boy getting treatment on the floor of a hospital.Andrew Neil would have exposed every lie of this PM!',\n",
       " 'Utter disgrace, Boris Johnson grabs Journalists mobile and puts it in his pocket when confronted about the little 4 year old boy with suspected pneumonia forced to lie on pile of coats on floor of Leeds hospital. Do you really want this man running the country for next 5 years?[emoji][emoji]',\n",
       " \"It's the most important week of the campaign. So the right-wing press, owned by the billionaires, will tell lie after lie about Jeremy & Labour.\\\\n\\\\nIgnore them. Get your own back by knocking on door after door to let people know about Labour's message of hope for a better country[emoji]:\",\n",
       " 'This is a picture @usermention doesn’t want you to see. \\\\nIt shows Jack lying on the floor of Leeds Infirmary for 4 hours last week. He has suspected pneumonia. There were no beds and the A&E staff couldn’t cope. You have a big decision this week. \\\\nPlease vote to stop this chaos [url]',\n",
       " 'This is a picture @usermention doesn’t want you to see. \\\\nIt shows Jack lying on the floor of Leeds Infirmary for 4 hours last week. He has suspected pneumonia. There were no beds and the A&E staff couldn’t cope. You have a big decision this week. \\\\nPlease vote to stop this chaos [url]',\n",
       " 'The UK is the sixth richest country in the world. \\\\n\\\\nSo why have @usermention starved our National Health Service of resources to the extent that this four-year-old with suspected pneumonia was forced to sleep on the floor due to a lack of beds?\\\\n\\\\n[url]',\n",
       " \"It's the most important week of the campaign. So the right-wing press, owned by the billionaires, will tell lie after lie about Jeremy & Labour.\\\\n\\\\nIgnore them. Get your own back by knocking on door after door to let people know about Labour's message of hope for a better country[emoji]:\",\n",
       " 'This is a lie and a stupid one at that. \\\\nPeak PFI was in 2009 under Labour, so make up this fiction about Jon Ashworth as well? \\\\nPlease produce some evidence of any PFI deal Jon Ashworth was involved in, proposed or agreed?\\\\nOtherwise stop poisoning the public debate.\\\\n#NHS [url]',\n",
       " 'Johnson has a been exposed as a pale imitation of Berlusconi with the same morals and ability to lie through his teeth. You can’t trust a word he says. The choice is clear. Jeremy Corbyn an honest, sincere man of principle or Johnson, a proven liar with no moral compass.',\n",
       " 'Johnson has a been exposed as a pale imitation of Berlusconi with the same morals and ability to lie through his teeth. You can’t trust a word he says. The choice is clear. Jeremy Corbyn an honest, sincere man of principle or Johnson, a proven liar with no moral compass.',\n",
       " 'Johnson has a been exposed as a pale imitation of Berlusconi with the same morals and ability to lie through his teeth. You can’t trust a word he says. The choice is clear. Jeremy Corbyn an honest, sincere man of principle or Johnson, a proven liar with no moral compass.',\n",
       " \"Trust is so low. In the pursuit of self advantage our countries Government are not first and foremost putting the welfare of its citizens first and also trying to hide it. If you believe something is the right thing to do you don't lie or hide you front up your decision. Cowards [url]\",\n",
       " 'There will be a leadership contest. It will be between candidates who continue the lie that we can win with a narrow appeal and those who realise we need to change. If you left Labour, come back and fight, if you’re disgusted at this failure join [url]',\n",
       " 'This is for our children forced to lie on hospital floors.\\\\n\\\\nThis is for Grenfell.\\\\n\\\\nThis is for the homeless sleeping out in the cold.\\\\n\\\\nThis is for our NHS.\\\\n\\\\nThis is for our planet that is crying out to be rescued.\\\\n\\\\nThis is for you. \\\\n\\\\n#VoteLabour',\n",
       " 'I understand that @usermention has been on Question Time tonight peddling the #FakeLaw myth that we spend more on legal aid than any other country.\\\\n\\\\nThis was a lie when his party said it in 2010. It remains a lie today. I can lend Robert a book explaining this if it helps.',\n",
       " 'The attempt to turn a tragic story of a 4 year old boy forced onto a hospital floor because of cuts to #OurNHS into a completely fabricated attack on @usermention activists is shameful. Are you going to say sorry for that too, @usermention? [url]',\n",
       " \"When party activists have *actually* been assaulted- including in my team, Rotherham where a 72 year old man was hospitalised, and Herefordshire where a 70 year old woman was attacked- Hancock's team lying about an assault & the media spreading this lie is a disgrace. [url]\",\n",
       " '[Thread]1/ This one is about the fake news claiming that a sick boy on the floor of a hospital in leeds was staged by his mother. We know the story is real, Dr Yvette Oade, chief medical officer at Leeds even apologised [url]',\n",
       " 'Can still be shocked by this stuff! Tory candidate @usermention retweets lines like \"nasty culture\", \"3rd world ways\", \"we know where your loyalties lie and it\\'s not bradford\", responds to @usermention\\'s criticism by accusing her of shutting down debate [url]',\n",
       " 'Just had the weirdest interview with @usermention on @usermention \\\\nSurely tonight the real issue was not about election tactics and which party leader had visited more hospitals; it was why a small boy was being treated on a pile of coats on the floor in a hospital corridor? [url]',\n",
       " 'Tried to show @usermention the picture of Jack Williment-Barr. The 4-year-old with suspected pneumonia forced to lie on a pile of coats on the floor of a Leeds hospital.\\\\n\\\\nThe PM grabbed my phone and put it in his pocket[emoji]',\n",
       " 'This never happened.\\\\n\\\\nInvented by the Tories to divert your attention from a child having to lie on a hospital floor; reported by media that didn’t bother to check if it was true.\\\\n\\\\nThis is what media bias looks like. [url]',\n",
       " 'Tried to show @usermention the picture of Jack Williment-Barr. The 4-year-old with suspected pneumonia forced to lie on a pile of coats on the floor of a Leeds hospital.\\\\n\\\\nThe PM grabbed my phone and put it in his pocket[emoji]',\n",
       " '\"For years large parts of the media and the Conservative Party have worked hand in glove to lie about the Labour Party, and have got away with it. Now they have been caught in the act.\"\\\\n\\\\n- @usermention\\\\n\\\\n[url]',\n",
       " 'The false  story  of a punch is a classic dead dog story designed to divert media attention. \\\\nThe central issue is a 4 year old child with pneumonia on the floor of one of our great hospitals and the PM snatching a phone from a journalist because he wanted to hide the photo. [url]',\n",
       " 'Jack Williment- Barr left to lie on coats for hours in a Leeds hospital. His refusal to look at the picture of Jack is Johnson saying \"I don\\'t want to own this\". This is certainly the political moment of the day and could be the moment of the campaign.',\n",
       " 'Tried to show @usermention the picture of Jack Williment-Barr. The 4-year-old with suspected pneumonia forced to lie on a pile of coats on the floor of a Leeds hospital.\\\\n\\\\nThe PM grabbed my phone and put it in his pocket[emoji]',\n",
       " 'Tried to show @usermention the picture of Jack Williment-Barr. The 4-year-old with suspected pneumonia forced to lie on a pile of coats on the floor of a Leeds hospital.\\\\n\\\\nThe PM grabbed my phone and put it in his pocket[emoji]',\n",
       " 'Tried to show @usermention the picture of Jack Williment-Barr. The 4-year-old with suspected pneumonia forced to lie on a pile of coats on the floor of a Leeds hospital.\\\\n\\\\nThe PM grabbed my phone and put it in his pocket[emoji]',\n",
       " 'This is absolutely incredible.\\\\n\\\\nA journalist confronts @usermention with a picture of a 4 year old with suspected pneumonia forced to lie on coats in a Leeds hospital.\\\\n\\\\nJohnson just grabs his phone and puts it in his pocket.\\\\n\\\\nEveryone needs to see this. [url]',\n",
       " \"One of the richest countries in the world and we have a sick child on the floor of a hospital because there aren't enough beds.\\\\nThis is what 10 years of Tory cuts have done to our NHS.\\\\nIf you don't think this is good enough, Vote Labour on Thursday. [url]\",\n",
       " 'Sick boy, 4, forced to sleep on a hospital floor because it had no bed free is why this election is about more than Brexit. Discussing on @usermention in a mo [url]',\n",
       " 'The more I think about this, the angrier I feel. The buffoonery, the shameless lies, the hiding from scrutiny, the cuddling up to Trump, the hidden donors and the tax dodging.Meanwhile a 4 year old child lying in the floor in one of our great hospitals for want of resources [url]',\n",
       " 'This is a terrible picture. A four-year old forced to sleep on the floor of A&E. THIS is where politicians should be focusing their attention. \\\\n\\\\n[url]',\n",
       " 'This is a picture @usermention doesn’t want you to see. \\\\nIt shows Jack lying on the floor of Leeds Infirmary for 4 hours last week. He has suspected pneumonia. There were no beds and the A&E staff couldn’t cope. You have a big decision this week. \\\\nPlease vote to stop this chaos [url]',\n",
       " \"Johnson can't resist lying in the first sentence - 50,000 more nurses is a fact-checked lie\",\n",
       " '@usermention Some are. But there’s also the phenomenon of ignoring or dismissing a lie if the lie is saying something you want to believe is true.',\n",
       " 'The same lie being perpetrated by @usermention @usermention [url]',\n",
       " \"Boris Johnson's 'Brexit done in 100 days' vow shredded by his own top Tory ally \\\\n\\\\nYep - another lie to add to the list. [url]\",\n",
       " 'Re-upping my argument that in the changes that lie ahead we should be updating Clause 4 - to put the battle against climate change and inequality central to our 21st century mission [url]',\n",
       " 'THIS IS YOUR LAST CHANCE!!\\\\n\\\\nPolls close in half an hour. \\\\n\\\\nIf you haven’t already voted, grab your coat and head to your polling station to #VoteLabour\\\\n\\\\nIf you’re a postal voter, you can also drop your postal vote off at your polling station to have your say. \\\\n\\\\nDon’t miss out! [url]',\n",
       " 'It is very simple. Labour do not need to lie because the facts are on their side. In contrast the Tories have to make stuff up. [url]',\n",
       " 'Want to know the lie of “ get Brexit Done? [url]',\n",
       " \"I'm glad to see Labour are by far the most honest party. We don't have to lie when our policies are genuinely in the interests of the many. Our plan is an irreversible shift in wealth and power to working people. You don't need to spin that.\",\n",
       " 'Just had the weirdest interview with @usermention on @usermention \\\\nSurely tonight the real issue was not about election tactics and which party leader had visited more hospitals; it was why a small boy was being treated on a pile of coats on the floor in a hospital corridor? [url]',\n",
       " 'This never happened.\\\\n\\\\nInvented by the Tories to divert your attention from a child having to lie on a hospital floor; reported by media that didn’t bother to check if it was true.\\\\n\\\\nThis is what media bias looks like. [url]',\n",
       " \"Pretty monstrous to accuse the parents of a sick four-year-old boy forced to sleep on the floor of a hospital of faking the photo. @usermention this a new low even for you. And I suspect it's also libellous. [url]\",\n",
       " 'This never happened.\\\\n\\\\nInvented by the Tories to divert your attention from a child having to lie on a hospital floor; reported by media that didn’t bother to check if it was true.\\\\n\\\\nThis is what media bias looks like. [url]',\n",
       " 'So Matt, are you confirming you’re one of the Two ‘senior Tory sources’ who falsely claimed your SpAd was punched in the face. \\\\n\\\\nYou were a Culture Secretary. You should understands the importance of truth in a modern democracy. \\\\n\\\\nDid you lie to @usermention and @usermention? [url]',\n",
       " 'Read this.\\\\n\\\\nTories accused of lying to distract from photo of boy on hospital floor [url]',\n",
       " 'This never happened.\\\\n\\\\nInvented by the Tories to divert your attention from a child having to lie on a hospital floor; reported by media that didn’t bother to check if it was true.\\\\n\\\\nThis is what media bias looks like. [url]',\n",
       " 'This never happened.\\\\n\\\\nInvented by the Tories to divert your attention from a child having to lie on a hospital floor; reported by media that didn’t bother to check if it was true.\\\\n\\\\nThis is what media bias looks like. [url]',\n",
       " 'Tried to show @usermention the picture of Jack Williment-Barr. The 4-year-old with suspected pneumonia forced to lie on a pile of coats on the floor of a Leeds hospital.\\\\n\\\\nThe PM grabbed my phone and put it in his pocket[emoji]',\n",
       " 'Tried to show @usermention the picture of Jack Williment-Barr. The 4-year-old with suspected pneumonia forced to lie on a pile of coats on the floor of a Leeds hospital.\\\\n\\\\nThe PM grabbed my phone and put it in his pocket[emoji]',\n",
       " '.@usermention It is hard to imagine a more heartless response to being shown a photo of a 4-year-old with suspected pneumonia forced to sleep on the floor of a hospital, due to chronic underfunding, than pivoting yet again to your Brexit lines.\\\\n[url]',\n",
       " 'This never happened.\\\\n\\\\nInvented by the Tories to divert your attention from a child having to lie on a hospital floor; reported by media that didn’t bother to check if it was true.\\\\n\\\\nThis is what media bias looks like. [url]',\n",
       " 'Boris Johnson says “I sympathise” with family of four year-old Jack Williment-Barr who had to sleep on A&E floor of after an 8 hour wait (@usermention) [url]',\n",
       " 'Tried to show @usermention the picture of Jack Williment-Barr. The 4-year-old with suspected pneumonia forced to lie on a pile of coats on the floor of a Leeds hospital.\\\\n\\\\nThe PM grabbed my phone and put it in his pocket[emoji]',\n",
       " '\"For years large parts of the media and the Conservative Party have worked hand in glove to lie about the Labour Party, and have got away with it. Now they have been caught in the act.\"\\\\n\\\\n- @usermention\\\\n\\\\n[url]',\n",
       " 'Tried to show @usermention the picture of Jack Williment-Barr. The 4-year-old with suspected pneumonia forced to lie on a pile of coats on the floor of a Leeds hospital.\\\\n\\\\nThe PM grabbed my phone and put it in his pocket[emoji]',\n",
       " \"So Journos pushed a lie that Labour funded taxis to Leeds Hospital to protest Matt Hancock's visit, only to quietly mention later the source is a WhatsApp screenshot...\\\\n\\\\nFFS.\",\n",
       " 'Tried to show @usermention the picture of Jack Williment-Barr. The 4-year-old with suspected pneumonia forced to lie on a pile of coats on the floor of a Leeds hospital.\\\\n\\\\nThe PM grabbed my phone and put it in his pocket[emoji]',\n",
       " \"A four year old with suspected pneumonia forced to lie on coats on the floor. This shouldn't ever happen anywhere. #BeAVoter #VoteNHS #GetTheToriesGone [url]\",\n",
       " 'The lack of empathy here is astonishing.\\\\n\\\\nNothing but shameless self promotion when asked about a four year old boy with suspected pneumonia forced to sleep on coats as a result of a decade of cuts to our NHS. \\\\n#GE2019 \\\\n\\\\n[url]',\n",
       " 'Tried to show @usermention the picture of Jack Williment-Barr. The 4-year-old with suspected pneumonia forced to lie on a pile of coats on the floor of a Leeds hospital.\\\\n\\\\nThe PM grabbed my phone and put it in his pocket[emoji]',\n",
       " 'Utter disgrace, Boris Johnson grabs Journalists mobile and puts it in his pocket when confronted about the little 4 year old boy with suspected pneumonia forced to lie on pile of coats on floor of Leeds hospital. Do you really want this man running the country for next 5 years?[emoji][emoji]',\n",
       " 'Tried to show @usermention the picture of Jack Williment-Barr. The 4-year-old with suspected pneumonia forced to lie on a pile of coats on the floor of a Leeds hospital.\\\\n\\\\nThe PM grabbed my phone and put it in his pocket[emoji]',\n",
       " 'The defining moment of this election.\\\\n\\\\nITV reporter @usermention shows @usermention a picture of the sick 4 year old forced to lie on coats on the floor of a desperately underfunded, understaffed A&E.\\\\n\\\\nJohnson refuses to look & pockets the phone.\\\\n\\\\nFor shame [emoji][emoji]',\n",
       " 'This is absolutely incredible.\\\\n\\\\nA journalist confronts @usermention with a picture of a 4 year old with suspected pneumonia forced to lie on coats in a Leeds hospital.\\\\n\\\\nJohnson just grabs his phone and puts it in his pocket.\\\\n\\\\nEveryone needs to see this. [url]',\n",
       " 'This is absolutely incredible.\\\\n\\\\nA journalist confronts @usermention with a picture of a 4 year old with suspected pneumonia forced to lie on coats in a Leeds hospital.\\\\n\\\\nJohnson just grabs his phone and puts it in his pocket.\\\\n\\\\nEveryone needs to see this. [url]',\n",
       " 'Tried to show @usermention the picture of Jack Williment-Barr. The 4-year-old with suspected pneumonia forced to lie on a pile of coats on the floor of a Leeds hospital.\\\\n\\\\nThe PM grabbed my phone and put it in his pocket[emoji]',\n",
       " \"His get Brexit done line is a lie as well. Leaving the EU with Johnson's hard Brexit would just be the start of negotiations which would last for years and cause huge damage and uncertainty. [url]\",\n",
       " \"Johnson can't resist lying in the first sentence - 50,000 more nurses is a fact-checked lie\",\n",
       " \"It's the final @usermention Cllrs City Centre surgery of 2019. We're on the 4th floor of Central library until closing at 6pm\",\n",
       " 'It’s been a heck of a ride, the last few weeks. Please vote for those who can’t.\\\\nVote for the NHS, your friends and family, teachers, firefighters, social services. Vote so children and vulnerable patients are left on the floor when they’re in the greatest need [url]',\n",
       " 'It’s been a heck of a ride, the last few weeks. Please vote for those who can’t.\\\\nVote for the NHS, your friends and family, teachers, firefighters, social services. Vote so children and vulnerable patients are left on the floor when they’re in the greatest need [url]',\n",
       " \"We can't survive five more years of Boris Johnson. He's going to destroy the communities we grew up in. That child on the floor in the hospital be any one of us. So vote with your heart on Thursday - please RT this video... [url]\",\n",
       " 'Here’s another hospital that Matt Hancock needs to get to quickly so the Tories can lie about someone being punched [url]',\n",
       " '\"[Boris Johnson] simply wants to avoid the issue and move on.”\\\\n \\\\nLabour’s @usermention says the PM\\'s reaction to looking at a photo of a sick child asleep on the floor in a hospital in Leeds, is “symptomatic” of how he “deals with issues he doesn’t like”\\\\n \\\\n#Newsnight [url]',\n",
       " 'Very interesting. A good friend of mine is a senior bot trying to discredit a true story of a 4-year old with suspected pneumonia being forced to sleep on the floor in A&E. [url]',\n",
       " 'Tried to show @usermention the picture of Jack Williment-Barr. The 4-year-old with suspected pneumonia forced to lie on a pile of coats on the floor of a Leeds hospital.\\\\n\\\\nThe PM grabbed my phone and put it in his pocket[emoji]',\n",
       " 'Johnson and the Tories lie and they cheat to manipulate the media. A sick child treated on the floor of a hospital and they try divert attention with a dead cat lie story. Never has our politics sunk so low in our country since Johnson took over. [url]',\n",
       " \"Jeremy Corbyn brands the photo of a child lying on a hospital floor as 'a disgrace' #GE2019 [url] [url]\",\n",
       " 'Tried to show @usermention the picture of Jack Williment-Barr. The 4-year-old with suspected pneumonia forced to lie on a pile of coats on the floor of a Leeds hospital.\\\\n\\\\nThe PM grabbed my phone and put it in his pocket[emoji]',\n",
       " 'Tried to show @usermention the picture of Jack Williment-Barr. The 4-year-old with suspected pneumonia forced to lie on a pile of coats on the floor of a Leeds hospital.\\\\n\\\\nThe PM grabbed my phone and put it in his pocket[emoji]',\n",
       " 'Johnson criticised over reaction to image of sick boy on hospital floor [url]',\n",
       " 'Utter disgrace, Boris Johnson grabs Journalists mobile and puts it in his pocket when confronted about the little 4 year old boy with suspected pneumonia forced to lie on pile of coats on floor of Leeds hospital. Do you really want this man running the country for next 5 years?[emoji][emoji]',\n",
       " 'When you vote on Thursday think of this image - a sick child being treated on the floor of a British hospital.\\\\n\\\\nThis should shame all of us.\\\\n\\\\n#VoteLabour [url]',\n",
       " 'The defining moment of this election.\\\\n\\\\nITV reporter @usermention shows @usermention a picture of the sick 4 year old forced to lie on coats on the floor of a desperately underfunded, understaffed A&E.\\\\n\\\\nJohnson refuses to look & pockets the phone.\\\\n\\\\nFor shame [emoji][emoji]',\n",
       " 'Tried to show @usermention the picture of Jack Williment-Barr. The 4-year-old with suspected pneumonia forced to lie on a pile of coats on the floor of a Leeds hospital.\\\\n\\\\nThe PM grabbed my phone and put it in his pocket[emoji]',\n",
       " \"One of the richest countries in the world and we have a sick child on the floor of a hospital because there aren't enough beds.\\\\nThis is what 10 years of Tory cuts have done to our NHS.\\\\nIf you don't think this is good enough, Vote Labour on Thursday. [url]\",\n",
       " 'This is a picture @usermention doesn’t want you to see. \\\\nIt shows Jack lying on the floor of Leeds Infirmary for 4 hours last week. He has suspected pneumonia. There were no beds and the A&E staff couldn’t cope. You have a big decision this week. \\\\nPlease vote to stop this chaos [url]',\n",
       " 'This is a picture @usermention doesn’t want you to see. \\\\nIt shows Jack lying on the floor of Leeds Infirmary for 4 hours last week. He has suspected pneumonia. There were no beds and the A&E staff couldn’t cope. You have a big decision this week. \\\\nPlease vote to stop this chaos [url]',\n",
       " 'Big lie from Boris just now. Labour would not raise taxes to the highest. Take a look yourself. Labour’s taxes on the wealthiest bring us lower than our closest competitors \\\\n#BBCLeadersDebate [url]',\n",
       " \"Ministers claims of 'parity' for mental health care is exposed for the lie it is. We urgently need Mental Health Act reform and the funding to ensure no one waits too long or suffers unduly[emoji]\",\n",
       " 'Spoke to a doubtful-looking floor manager. Her response[emoji]',\n",
       " '@usermention @usermention Hence why I’m careful where I put my bag down on the floor [emoji]:[emoji]:',\n",
       " 'All I want for Christmas is a prime minister who doesn’t hide in fridges, politicise the deaths of murdered young men, refuse to look at children on A&E floors, lie through his teeth & stoke racism & hate.\\\\n\\\\nIs that really too much to ask?\\\\n\\\\n#GE2019 \\\\n[url]',\n",
       " 'Tried to show @usermention the picture of Jack Williment-Barr. The 4-year-old with suspected pneumonia forced to lie on a pile of coats on the floor of a Leeds hospital.\\\\n\\\\nThe PM grabbed my phone and put it in his pocket[emoji]',\n",
       " '@usermention This is a lie from a floundering Secretary of State!',\n",
       " 'Jack, a little boy aged 4 with pneumonia forced to sleep on hospital floor due to lack of beds, a desperate mum trying to keep him warm. A heartbreaking symbol of all that is wrong with #Tory #Britain, an #NHSCrisis \\u2066@usermention\\u2069  [url]',\n",
       " 'Tried to show @usermention the picture of Jack Williment-Barr. The 4-year-old with suspected pneumonia forced to lie on a pile of coats on the floor of a Leeds hospital.\\\\n\\\\nThe PM grabbed my phone and put it in his pocket[emoji]',\n",
       " \"The defining moment of #GE19 \\\\n\\\\nRather than look at a photo of Jack Williment-Barr, the 4-year-old forced to lie on a Leeds hospital floor, Boris Johnson snatches Joe Pike's phone, pockets it and continues to parrot platitudes \\\\n\\\\n[url]\",\n",
       " \"When party activists have *actually* been assaulted- including in my team, Rotherham where a 72 year old man was hospitalised, and Herefordshire where a 70 year old woman was attacked- Hancock's team lying about an assault & the media spreading this lie is a disgrace. [url]\",\n",
       " 'Tried to show @usermention the picture of Jack Williment-Barr. The 4-year-old with suspected pneumonia forced to lie on a pile of coats on the floor of a Leeds hospital.\\\\n\\\\nThe PM grabbed my phone and put it in his pocket[emoji]',\n",
       " 'The defining moment of this election.\\\\n\\\\nITV reporter @usermention shows @usermention a picture of the sick 4 year old forced to lie on coats on the floor of a desperately underfunded, understaffed A&E.\\\\n\\\\nJohnson refuses to look & pockets the phone.\\\\n\\\\nFor shame [emoji][emoji]',\n",
       " 'Tried to show @usermention the picture of Jack Williment-Barr. The 4-year-old with suspected pneumonia forced to lie on a pile of coats on the floor of a Leeds hospital.\\\\n\\\\nThe PM grabbed my phone and put it in his pocket[emoji]',\n",
       " 'Tried to show @usermention the picture of Jack Williment-Barr. The 4-year-old with suspected pneumonia forced to lie on a pile of coats on the floor of a Leeds hospital.\\\\n\\\\nThe PM grabbed my phone and put it in his pocket[emoji]',\n",
       " 'The lack of empathy here is astonishing.\\\\n\\\\nNothing but shameless self promotion when asked about a four year old boy with suspected pneumonia forced to sleep on coats as a result of a decade of cuts to our NHS. \\\\n#GE2019 \\\\n\\\\n[url]',\n",
       " 'Tried to show @usermention the picture of Jack Williment-Barr. The 4-year-old with suspected pneumonia forced to lie on a pile of coats on the floor of a Leeds hospital.\\\\n\\\\nThe PM grabbed my phone and put it in his pocket[emoji]',\n",
       " 'Jack, a little boy aged 4 with pneumonia forced to sleep on hospital floor due to lack of beds, a desperate mum trying to keep him warm. A heartbreaking symbol of all that is wrong with #Tory #Britain, an #NHSCrisis \\u2066@usermention\\u2069  [url]',\n",
       " 'This is a picture @usermention doesn’t want you to see. \\\\nIt shows Jack lying on the floor of Leeds Infirmary for 4 hours last week. He has suspected pneumonia. There were no beds and the A&E staff couldn’t cope. You have a big decision this week. \\\\nPlease vote to stop this chaos [url]',\n",
       " 'Johnson has a been exposed as a pale imitation of Berlusconi with the same morals and ability to lie through his teeth. You can’t trust a word he says. The choice is clear. Jeremy Corbyn an honest, sincere man of principle or Johnson, a proven liar with no moral compass.',\n",
       " 'This man is supposed to be a senior cabinet minister & all he can spit out are the surnames of his opponents & now the old lie that the global banking crisis was all Labour’s fault!',\n",
       " 'Thanks @usermention. Email is mcdonaghs@usermention.uk. Problem for Mrs B is that she needs a grd floor 4 bedroom flat with wet room! In last year @usermention has had 1 x4 bed of any sort. Written to her sons Drs but however high on list she can’t get what doesn’t exist! [url]',\n",
       " 'The woman with 6yr old son with spina bifida who she carries up & down to their overcrowded 1st floor flat. Some I can solve but most need a government  that would build homes. We let them down with our awful election campaign & leadership. For shame @usermention should go. 2/2',\n",
       " \"@usermention @usermention Thanks Sarah. It's hopefully obvious the solutions almost certainly don't lie in a more punitive approach and there will be no quick wins.\",\n",
       " 'Thank you to my constituents for again putting your trust in me to fight our corner in Westminster. Difficult times lie ahead and I will not shy away from the challenge. I will continue to put you first in everything I do.',\n",
       " 'This is one of the most lie filled Tory election campaigns we have ever seen.\\\\n\\\\nLabour has run a positive campaign based on transformative policy. \\\\n\\\\nThe Tories have run a campaign where 88% of their adverts were found to propagate misinformation. \\\\n\\\\nThe choice is clear.\\\\n\\\\n#GE2019 [url]',\n",
       " 'This is one of the most lie filled Tory election campaigns we have ever seen.\\\\n\\\\nLabour has run a positive campaign based on transformative policy. \\\\n\\\\nThe Tories have run a campaign where 88% of their adverts were found to propagate misinformation. \\\\n\\\\nThe choice is clear.\\\\n\\\\n#GE2019 [url]',\n",
       " 'The PM refused to look at the photo of a 4y/o left on the floor in hospital bc there were no beds. >5,000 patients had to wait for longer than 12 hours in A&E.\\\\n\\\\n#Labour has a rescue plan - critical funding for doctors, nurses and equipment.\\\\n [url]',\n",
       " 'Tried to show @usermention the picture of Jack Williment-Barr. The 4-year-old with suspected pneumonia forced to lie on a pile of coats on the floor of a Leeds hospital.\\\\n\\\\nThe PM grabbed my phone and put it in his pocket[emoji]',\n",
       " '@usermention Nah, I’m just tired and after seeing the news that a child with pneumonia is being treated on the floor of a hospital on a bed of coats, am just not in the mood for laughing along with the man responsible for it.',\n",
       " 'Tried to show @usermention the picture of Jack Williment-Barr. The 4-year-old with suspected pneumonia forced to lie on a pile of coats on the floor of a Leeds hospital.\\\\n\\\\nThe PM grabbed my phone and put it in his pocket[emoji]',\n",
       " '@usermention @usermention @usermention I was 3rd floor too! Argh... need to chat soon! I’ve got some boots to donate from the office',\n",
       " 'This is one of the most lie filled Tory election campaigns we have ever seen.\\\\n\\\\nLabour has run a positive campaign based on transformative policy. \\\\n\\\\nThe Tories have run a campaign where 88% of their adverts were found to propagate misinformation. \\\\n\\\\nThe choice is clear.\\\\n\\\\n#GE2019 [url]',\n",
       " 'Tried to show @usermention the picture of Jack Williment-Barr. The 4-year-old with suspected pneumonia forced to lie on a pile of coats on the floor of a Leeds hospital.\\\\n\\\\nThe PM grabbed my phone and put it in his pocket[emoji]',\n",
       " 'Tried to show @usermention the picture of Jack Williment-Barr. The 4-year-old with suspected pneumonia forced to lie on a pile of coats on the floor of a Leeds hospital.\\\\n\\\\nThe PM grabbed my phone and put it in his pocket[emoji]',\n",
       " 'Tried to show @usermention the picture of Jack Williment-Barr. The 4-year-old with suspected pneumonia forced to lie on a pile of coats on the floor of a Leeds hospital.\\\\n\\\\nThe PM grabbed my phone and put it in his pocket[emoji]',\n",
       " '.@usermention It is hard to imagine a more heartless response to being shown a photo of a 4-year-old with suspected pneumonia forced to sleep on the floor of a hospital, due to chronic underfunding, than pivoting yet again to your Brexit lines.\\\\n[url]',\n",
       " 'Tried to show @usermention the picture of Jack Williment-Barr. The 4-year-old with suspected pneumonia forced to lie on a pile of coats on the floor of a Leeds hospital.\\\\n\\\\nThe PM grabbed my phone and put it in his pocket[emoji]',\n",
       " \"Boris Johnson repeats his lie about two referendums (unchallenged) once more on #Ridge.\\\\n\\\\nHe thinks he and his born to rule chums can lie their way to power.\\\\n\\\\nYou can't trust Boris Johnson with our country's future.\",\n",
       " 'Johnson has a been exposed as a pale imitation of Berlusconi with the same morals and ability to lie through his teeth. You can’t trust a word he says. The choice is clear. Jeremy Corbyn an honest, sincere man of principle or Johnson, a proven liar with no moral compass.',\n",
       " 'Tories lie and Labour tells the truth, here is the proof.\\\\n#ToryLies , #SaveOurNHS , #VoteLabourDecember12th \\\\n#PaulaBarker4Wavertree \\\\n@usermention \\\\n\\\\n[url]',\n",
       " 'Oh fuck. This is nuclear.\\\\n\\\\nThe BBC have just reported that the Tory Health Secretary was friends with family linked to the fake news scandal surrounding baby Jack, the 4 year old suffering pneumonia lying on a hospital floor. [url]',\n",
       " 'So, Boris Johnson has no empathy for ill children or the stressed out people providing our NHS services. Hancock will visit your hospital after they have been unable to give you the service you need & will then lie & make up stories about himself - Don’t #VoteConservatives',\n",
       " 'Tried to show @usermention the picture of Jack Williment-Barr. The 4-year-old with suspected pneumonia forced to lie on a pile of coats on the floor of a Leeds hospital.\\\\n\\\\nThe PM grabbed my phone and put it in his pocket[emoji]',\n",
       " \"We can't survive five more years of Boris Johnson. He's going to destroy the communities we grew up in. That child on the floor in the hospital be any one of us. So vote with your heart on Thursday - please RT this video... [url]\",\n",
       " 'Here’s another hospital that Matt Hancock needs to get to quickly so the Tories can lie about someone being punched [url]',\n",
       " 'This never happened.\\\\n\\\\nInvented by the Tories to divert your attention from a child having to lie on a hospital floor; reported by media that didn’t bother to check if it was true.\\\\n\\\\nThis is what media bias looks like. [url]',\n",
       " 'Tried to show @usermention the picture of Jack Williment-Barr. The 4-year-old with suspected pneumonia forced to lie on a pile of coats on the floor of a Leeds hospital.\\\\n\\\\nThe PM grabbed my phone and put it in his pocket[emoji]',\n",
       " 'Tories accused of lying to distract from photo of boy on hospital floor [url]',\n",
       " 'Tried to show @usermention the picture of Jack Williment-Barr. The 4-year-old with suspected pneumonia forced to lie on a pile of coats on the floor of a Leeds hospital.\\\\n\\\\nThe PM grabbed my phone and put it in his pocket[emoji]',\n",
       " 'Tried to show @usermention the picture of Jack Williment-Barr. The 4-year-old with suspected pneumonia forced to lie on a pile of coats on the floor of a Leeds hospital.\\\\n\\\\nThe PM grabbed my phone and put it in his pocket[emoji]',\n",
       " \"It's the most important week of the campaign. So the right-wing press, owned by the billionaires, will tell lie after lie about Jeremy & Labour.\\\\n\\\\nIgnore them. Get your own back by knocking on door after door to let people know about Labour's message of hope for a better country[emoji]:\",\n",
       " 'UK diplomat to US resigns due to refusing to lie about Brexit on behalf of Tories. Johnson continues to corrupt our British institutions & to bring shame upon our country [url]',\n",
       " 'Work no longer guarantees a way out of poverty \\u2066@usermention\\u2069 speaking out about the lie that is #austerity #ge2019 #ForTheMany [url]',\n",
       " 'THIS IS YOUR LAST CHANCE!!\\\\n\\\\nPolls close in half an hour. \\\\n\\\\nIf you haven’t already voted, grab your coat and head to your polling station to #VoteLabour\\\\n\\\\nIf you’re a postal voter, you can also drop your postal vote off at your polling station to have your say. \\\\n\\\\nDon’t miss out! [url]',\n",
       " 'This is for our children forced to lie on hospital floors.\\\\n\\\\nThis is for Grenfell.\\\\n\\\\nThis is for the homeless sleeping out in the cold.\\\\n\\\\nThis is for our NHS.\\\\n\\\\nThis is for our planet that is crying out to be rescued.\\\\n\\\\nThis is for you. \\\\n\\\\n#VoteLabour',\n",
       " 'Here’s another hospital that Matt Hancock needs to get to quickly so the Tories can lie about someone being punched [url]',\n",
       " 'Tried to show @usermention the picture of Jack Williment-Barr. The 4-year-old with suspected pneumonia forced to lie on a pile of coats on the floor of a Leeds hospital.\\\\n\\\\nThe PM grabbed my phone and put it in his pocket[emoji]',\n",
       " 'This never happened.\\\\n\\\\nInvented by the Tories to divert your attention from a child having to lie on a hospital floor; reported by media that didn’t bother to check if it was true.\\\\n\\\\nThis is what media bias looks like. [url]',\n",
       " 'Here’s another hospital that Matt Hancock needs to get to quickly so the Tories can lie about someone being punched [url]',\n",
       " 'Tried to show @usermention the picture of Jack Williment-Barr. The 4-year-old with suspected pneumonia forced to lie on a pile of coats on the floor of a Leeds hospital.\\\\n\\\\nThe PM grabbed my phone and put it in his pocket[emoji]',\n",
       " 'This is a picture @usermention doesn’t want you to see. \\\\nIt shows Jack lying on the floor of Leeds Infirmary for 4 hours last week. He has suspected pneumonia. There were no beds and the A&E staff couldn’t cope. You have a big decision this week. \\\\nPlease vote to stop this chaos [url]',\n",
       " 'Johnson and the Tories lie and they cheat to manipulate the media. A sick child treated on the floor of a hospital and they try divert attention with a dead cat lie story. Never has our politics sunk so low in our country since Johnson took over. [url]',\n",
       " 'Utter disgrace, Boris Johnson grabs Journalists mobile and puts it in his pocket when confronted about the little 4 year old boy with suspected pneumonia forced to lie on pile of coats on floor of Leeds hospital. Do you really want this man running the country for next 5 years?[emoji][emoji]',\n",
       " 'Johnson and the Tories lie and they cheat to manipulate the media. A sick child treated on the floor of a hospital and they try divert attention with a dead cat lie story. Never has our politics sunk so low in our country since Johnson took over. [url]',\n",
       " 'A journalist tries to show @usermention a photo of a sick child lying on the floor in A&E and he takes the phone and puts it in his pocket. \\\\n\\\\nUnbelievable! \\\\n\\\\nWhat a heartless and uncaring monster this man is!\\\\n\\\\n#ToriesOutDecember12 \\\\n\\\\n[url]',\n",
       " 'Tried to show @usermention the picture of Jack Williment-Barr. The 4-year-old with suspected pneumonia forced to lie on a pile of coats on the floor of a Leeds hospital.\\\\n\\\\nThe PM grabbed my phone and put it in his pocket[emoji]',\n",
       " 'Appalling - not just the grabbing of the phone - also the lie that “getting Brexit done” will stop ppl waiting in #NHS corridors the truth is Brexit is bad for our economy - so we won’t have the funds we need for public services nor the brilliant #EU workers who help run them. [url]',\n",
       " \"One of the richest countries in the world and we have a sick child on the floor of a hospital because there aren't enough beds.\\\\nThis is what 10 years of Tory cuts have done to our NHS.\\\\nIf you don't think this is good enough, Vote Labour on Thursday. [url]\",\n",
       " \"Boris Johnson pockets reporter's phone after being shown pic of boy on A&E floor [url]\",\n",
       " 'Sick boy, 4, forced to sleep on a hospital floor because it had no bed free is why this election is about more than Brexit. Discussing on @usermention in a mo [url]',\n",
       " \"Johnson can't resist lying in the first sentence - 50,000 more nurses is a fact-checked lie\",\n",
       " 'Johnson has a been exposed as a pale imitation of Berlusconi with the same morals and ability to lie through his teeth. You can’t trust a word he says. The choice is clear. Jeremy Corbyn an honest, sincere man of principle or Johnson, a proven liar with no moral compass.',\n",
       " 'If you are thinking to vote Tory to Get Brexit Done please watch this first to understand why it’s a lie [url]',\n",
       " 'This never happened.\\\\n\\\\nInvented by the Tories to divert your attention from a child having to lie on a hospital floor; reported by media that didn’t bother to check if it was true.\\\\n\\\\nThis is what media bias looks like. [url]',\n",
       " 'Tried to show @usermention the picture of Jack Williment-Barr. The 4-year-old with suspected pneumonia forced to lie on a pile of coats on the floor of a Leeds hospital.\\\\n\\\\nThe PM grabbed my phone and put it in his pocket[emoji]',\n",
       " 'Tried to show @usermention the picture of Jack Williment-Barr. The 4-year-old with suspected pneumonia forced to lie on a pile of coats on the floor of a Leeds hospital.\\\\n\\\\nThe PM grabbed my phone and put it in his pocket[emoji]',\n",
       " 'Why do you keep quoting Tory spin. First you claim someone was punched, then a labour campaigners offered to pay for people to protest Why are you not recognising a sick child was left on the floor of A&E [url]',\n",
       " 'World class journalism. \\\\n\\\\nBoris Johnson sneers at 4 year old child with pneumonia who was forced to lie on a hospital floor for 4 hours.\\\\n\\\\nAt one point he snatches the phone from the journalists hand and puts it in his pocket. [url]',\n",
       " 'Utter disgrace, Boris Johnson grabs Journalists mobile and puts it in his pocket when confronted about the little 4 year old boy with suspected pneumonia forced to lie on pile of coats on floor of Leeds hospital. Do you really want this man running the country for next 5 years?[emoji][emoji]',\n",
       " 'Tried to show @usermention the picture of Jack Williment-Barr. The 4-year-old with suspected pneumonia forced to lie on a pile of coats on the floor of a Leeds hospital.\\\\n\\\\nThe PM grabbed my phone and put it in his pocket[emoji]',\n",
       " 'Sick boy, 4, forced to sleep on a hospital floor because it had no bed free is why this election is about more than Brexit. Discussing on @usermention in a mo [url]',\n",
       " 'Whatever your opinion of politics is, this can’t be right, a 4 year old with Pneumonia on a drip laid on the floor in hospital. Public services are in crisis because of years of Tory Government cuts, things have to change and fast! #Vote2019 [url]',\n",
       " \"Jeremy Corbyn brands the photo of a child lying on a hospital floor as 'a disgrace' #GE2019 [url] [url]\",\n",
       " 'Tried to show @usermention the picture of Jack Williment-Barr. The 4-year-old with suspected pneumonia forced to lie on a pile of coats on the floor of a Leeds hospital.\\\\n\\\\nThe PM grabbed my phone and put it in his pocket[emoji]',\n",
       " 'Very interesting. A good friend of mine (who happens to be myself) is a doctor. He is telling you that a 4-year-old sick child sleeping on the floor is very common in understaffed, underresourced A&Es. The NHS is already broken. Wake up! #VoteLabourDecember12 #LeedsGeneral',\n",
       " 'Tried to show @usermention the picture of Jack Williment-Barr. The 4-year-old with suspected pneumonia forced to lie on a pile of coats on the floor of a Leeds hospital.\\\\n\\\\nThe PM grabbed my phone and put it in his pocket[emoji]',\n",
       " 'Don’t say this often - @usermention wiped the floor with @usermention there. Her conduct is utterly disgraceful, damaging and dangerous. Her panto line at the end worked well for her MPs but the public are growing more and more disgusted by her recklessness #pmqs',\n",
       " 'Do not ever let them get away with this lie again. 37 per cent of NHS doctors qualified overseas and migrants make up a disproportionate amount of care staff. We should welcome migrants. Our health service depends on it. \\\\n\\\\n[url]',\n",
       " 'The most interesting development... if 2nd ref is allowed into the floor of Commons next week, Labour conference policy requires whipping support for it [url]',\n",
       " 'Barefaced lie from Michael Gove on @usermention just now when he claimed all the people behind the #peoplesvote had voted Remain in 2016. I personally introduced him to a group of @usermention in Parliament several weeks’ ago.',\n",
       " 'The most interesting development... if 2nd ref is allowed into the floor of Commons next week, Labour conference policy requires whipping support for it [url]',\n",
       " 'This Govt appears to lie as a matter of course #BrexitShambles #ToryShambles [url]',\n",
       " '@usermention @usermention Like to think me mentioning it on floor of house yesterday night in front of PM helped. Probably a poisoned chalice',\n",
       " 'It was our team party in the bakery last night, so to give the team a bit of a lie in we are opening at 12 with a full match service & taking drop offs for @usermention #lfc #morethanapie',\n",
       " 'Don’t say this often - @usermention wiped the floor with @usermention there. Her conduct is utterly disgraceful, damaging and dangerous. Her panto line at the end worked well for her MPs but the public are growing more and more disgusted by her recklessness #pmqs',\n",
       " 'This is spot on. Nothing has changed other than the fault line in the Tory Party is now brightly visible for all to see in neon lights. But her Government may yet fall if those who voted against her stop supporting her on the floor of the House. [url]',\n",
       " '@usermention @usermention @usermention Sorry to hear this Rosy.   I realized #Everychildmatters was a complete lie years ago.   It’s an insult when it’s written on a poster behind the #SEND teacher telling you your child will get no support.',\n",
       " 'Well sir, the floor of Congress is going to look like America... \\\\n\\\\nAnd you’re gonna have to just deal [emoji][emoji]',\n",
       " 'Important @usermention PQ re #UniversalCredit and the effect of the minimum income floor on self-employed people. [url]']"
      ]
     },
     "execution_count": 3,
     "metadata": {},
     "output_type": "execute_result"
    }
   ],
   "source": [
    "eg_child_hospital = [any(item in i for item in ['pneumonia', 'coat', 'floor', 'lie']) for i in demojized_text_split]\n",
    "tweets_child_floor = uk_data[eg_child_hospital]\n",
    "list(tweets_child_floor['demojized_text'])"
   ]
  },
  {
   "cell_type": "code",
   "execution_count": 4,
   "id": "d3f50ffa",
   "metadata": {},
   "outputs": [
    {
     "data": {
      "text/plain": [
       "['Who put the return of no deal brexit - and all the chaos that entails- on their Christmas list? Suggests this government not going to use their majority to be sensible but to be vindictive … #brexithaos [url]',\n",
       " 'Plus you need to offer hope to the ordinary working person and boost his pay packet that is still buying 5% less than it did in 2008 - @usermention had nothing to offer to contrast the stupid but effective ‘get brexit done’ you have to be believable again [url]',\n",
       " 'NEW - Leaked Treasury document, here in full, which suggests potential checks on goods going to/ from NI under Boris Johnson’s brexit deal include[emoji]',\n",
       " 'NEW - Leaked Treasury document, here in full, which suggests potential checks on goods going to/ from NI under Boris Johnson’s brexit deal include[emoji]',\n",
       " 'At Cardiff South and Penarth hustings with @usermention and @usermention No show from tories or brexit mob yet [url]',\n",
       " '@usermention @usermention @usermention @usermention @usermention @usermention @usermention @usermention @usermention @usermention @usermention Tory botched privatisation still at the very heart of this terrible let-down of the travelling public & my constituents.',\n",
       " 'Yet again the botched Tory Govt privatisation of our probation service led to the release of a vicious known criminal & rapist  to terrorise women!',\n",
       " 'This election campaign has confirmed what we already knew about Boris Johnson.\\\\n\\\\nHe simply can not be trusted.\\\\n\\\\nHe does not have our interests at heart.\\\\n\\\\nHe wants a hard brexit and a race to the bottom on rights.\\\\n\\\\nHe is yet to apologise for his outdated racist views.\\\\n\\\\n#GE2019 [url]',\n",
       " \"A few people have challenged me for describing the brexit party as far right with extreme views. This is just some evidence and includes an expose of a Stockton man who's moved from one far right group to another. [url]\",\n",
       " 'If Theresa May told me I had to vote for her brexit deal I’d tell her, NO Theresa! I have NO responsibility to deliver your shoddy brexit deal, so drop your faux outrage, accept you’ve failed miserably and put the deal to a vote before Parliament now! #PMQS [url]',\n",
       " 'If Theresa May told me I had to vote for her brexit deal I’d tell her, NO Theresa! I have NO responsibility to deliver your shoddy brexit deal, so drop your faux outrage, accept you’ve failed miserably and put the deal to a vote before Parliament now! #PMQS [url]',\n",
       " 'We now have a Tory Govt threatening the public with a \"no deal\" Brexit, planning to waste billions on it, put the army on the streets & charter emergency flights for medicines for the NHS. \\\\n\\\\nWhy? So the PM can force support for her botched deal & cling on to her job.\\\\n\\\\nDesperate.',\n",
       " \"This isn't bloody 'project fear'. This is a minister nervously laughing about the fridges he's buying to keep people alive if no deal brexit happens. Sod #brexithaos, starting #brexiurious! [url]\",\n",
       " \"It's unacceptable for the country to wait another month to vote on Theresa May’s botched Brexit deal.\\\\n\\\\nShe's running scared of a vote on her Brexit deal – because she knows she will lose. [url]\",\n",
       " \"It's unacceptable for Parliament to have to wait another month to vote on Theresa May’s botched Brexit deal.\\\\n\\\\nShe's running scared of a vote on her Brexit deal – because she knows she will lose. [url]\",\n",
       " \"It's unacceptable for the country to wait another month to vote on Theresa May’s botched Brexit deal.\\\\n\\\\nShe's running scared of a vote on her Brexit deal – because she knows she will lose. [url]\",\n",
       " \"It is unacceptable for the country to wait another month before Parliament has the chance to vote on Theresa May's botched deal.\\\\n\\\\nTherefore I have tabled a motion of no confidence in the PM this evening, so Parliament can take back control. #NoConfidence [url]\",\n",
       " \"It is unacceptable for the country to wait another month before Parliament has the chance to vote on Theresa May's botched deal.\\\\n\\\\nTherefore I have tabled a motion of no confidence in the PM this evening, so Parliament can take back control. #NoConfidence [url]\",\n",
       " \"It is unacceptable for the country to wait another month before Parliament has the chance to vote on Theresa May's botched deal.\\\\n\\\\nTherefore I have tabled a motion of no confidence in the PM this evening, so Parliament can take back control. #NoConfidence [url]\",\n",
       " \"Today the Tories have been dragged kicking and screaming to announce a date to vote on Theresa May's botched Brexit deal. [url]\",\n",
       " \"Excellent piece on workers rights from @usermention and @usermention on how certain Tories want deregulation of the Labour market and to take away workers rights under May's botched Brexit deal [url]\",\n",
       " \"Devastating news for workers and their families going into the new year. Real worry that Workers are starting to feel the effects of uncertainty caused by the Government's botched Brexit deal amongst other factors.\\\\n\\\\n[url]\",\n",
       " '. @usermention tells @usermention “the brexit narrative against migration is fuelling racism, not just in politics but football and every walk of life “',\n",
       " \"Devastating news for workers and their families going into the new year. Real worry that Workers are starting to feel the effects of uncertainty caused by the Government's botched Brexit deal amongst other factors.\\\\n\\\\n[url]\",\n",
       " 'While the Government is locked in chaos over its botched Brexit negotiations, the NHS is being neglected.\\\\n\\\\n[url]',\n",
       " \"Any chance of a non brexit RT @usermention @usermention @usermention @usermention @usermention @usermention @usermention it's #LocalCharitiesDay small local charities keep our communities going. So many ways we can help them including volunteering\\\\n\\\\n[url]\",\n",
       " 'It appears the old \"A bloody difficult woman\" routine isn\\'t working? The PM has failed again to get any movement on her botched Brexit deal, what a shambles, she should come home and save us from further embarrassment or will she try \"handbagging\" the EU into submission? [emoji][emoji]',\n",
       " \"It's clear after Theresa May went back to Brussels today that there'll be no changes to her botched Brexit deal.\\\\n\\\\nThere must be no more delays or attempts to run down the clock to deny Parliament alternative options.\\\\n\\\\nThere's no time to waste and Parliament must take back control\",\n",
       " \"It's clear after Theresa May went back to Brussels today that there'll be no changes to her botched Brexit deal.\\\\n\\\\nThere must be no more delays or attempts to run down the clock to deny Parliament alternative options.\\\\n\\\\nThere's no time to waste and Parliament must take back control\",\n",
       " \"It's clear after Theresa May went back to Brussels today that there'll be no changes to her botched Brexit deal.\\\\n\\\\nThere must be no more delays or attempts to run down the clock to deny Parliament alternative options.\\\\n\\\\nThere's no time to waste and Parliament must take back control\",\n",
       " \"“Our priority is one to vote down her botched deal, unless she fundamentally transforms it, two to stop a No Deal Brexit and three to get a Labour government” - Richard Burgon MP, Shadow Justice Secretary, on Labour's plan following the result today\\\\n\\\\n#newsnight\\xa0| @usermention [url]\",\n",
       " \"Tonight's vote changes nothing.\\\\n\\\\nTheresa May has lost her majority in Parliament, her Government is in chaos and she's unable to deliver a Brexit deal that works for the country and puts jobs and the economy first.\\\\n\\\\nShe must now bring her botched deal back to Parliament next week\",\n",
       " \"Tonight's vote changes nothing.\\\\n\\\\nTheresa May has lost her majority in Parliament, her Government is in chaos and she's unable to deliver a Brexit deal that works for the country and puts jobs and the economy first.\\\\n\\\\nShe must now bring her botched deal back to Parliament next week\",\n",
       " \"Tonight's vote changes nothing.\\\\n\\\\nTheresa May has lost her majority in Parliament, her Government is in chaos and she's unable to deliver a Brexit deal that works for the country and puts jobs and the economy first.\\\\n\\\\nShe must now bring her botched deal back to Parliament next week\",\n",
       " \"What a complete shambles, while the PM is hawking her botched #Brexit deal around the EU begging for further concessions her own MPs launch a leadership challenge. This is not strong&stable or in the national interest it's all about the Tory party hanging on to power at any cost! [url]\",\n",
       " 'Tonight we should be voting on Theresa May’s botched Brexit deal but to avoid a resounding defeat she pulled the vote at the very last minute. [url]',\n",
       " 'Tonight we should be voting on Theresa May’s botched Brexit deal but to avoid a resounding defeat she pulled the vote at the very last minute. [url]',\n",
       " 'government wonder why there’s so much suspicion about whether they are going to try to avoid a vote at all on brexit deal. When I asked minister if he had consulted attorney general on advice he gave about constitutional process, minister told me to go and ask him myself! [emoji]:',\n",
       " 'Whatever your brexit stance, this is genius. [url]',\n",
       " \"Plot twist #2 this morning....its not just brexit that's struggling but our very democracy. Unless we sort both, this chaos will just get worse....#brexithaos [url]\",\n",
       " \"Nothing annoys me more in brexit debate than idea that white working class cant understand high debate, or that all think the same. I don't agree with all being said but proud of my brother for making this example of the working class I grew up with.  [url]\",\n",
       " \"The Tories’ botched Brexit deal needs to be consigned to the dustbin of history. \\\\n\\\\nLabour will vote to ensure it is. \\\\n\\\\nAs I told @usermention, Labour's sensible Brexit plan can help bring the country together and protect jobs, the economy, rights and environmental protections.\",\n",
       " \"If Theresa May cannot get enough backing for her botched Brexit deal, Labour believes a general election is needed. \\\\n\\\\nThat general election won't just be about a new deal with Europe, but a new deal for the vast majority of people suffering under the Tories.\",\n",
       " \"If Theresa May cannot get enough backing for her botched Brexit deal, Labour believes a general election is needed. \\\\n\\\\nThat general election won't just be about a new deal with Europe, but a new deal for the vast majority of people suffering under the Tories.\",\n",
       " '@usermention Stopping May’s brexit would seem like a good place to start.',\n",
       " \"Theresa May's botched Brexit deal is the worst-of-all-worlds - it works for nobody, whether they voted leave or remain.\\\\n\\\\nThat's why Labour will vote against it on Tuesday.\\\\n\\\\nMy article[emoji]\",\n",
       " \"Theresa May's botched Brexit deal is the worst-of-all-worlds - it works for nobody, whether they voted leave or remain.\\\\n\\\\nThat's why Labour will vote against it on Tuesday.\\\\n\\\\nMy article[emoji]\",\n",
       " '@usermention absolutely right to highlight the awful impact of the botched #UniversalCredit rollout. The Prime Minister’s claim that all who need money are getting it is just nonsense. [url]',\n",
       " 'PM playing Russian roulette with the future of the country to blackmail Parliament into backing her botched blind Brexit is not a good look #BrexitShambles #ToryDisplacementActivity [url]',\n",
       " \"While the Tories scramble to prepare for a No Deal scenario nobody wants, the business of government is grinding to a halt. The people of this country are already paying for the Prime Minister's botched Brexit, and we haven't even left the EU yet. [url]\",\n",
       " \"It is unacceptable for the country to wait another month before Parliament has the chance to vote on Theresa May's botched deal.\\\\n\\\\nTherefore I have tabled a motion of no confidence in the PM this evening, so Parliament can take back control. #NoConfidence [url]\",\n",
       " \"It's unacceptable for Parliament to have to wait another month to vote on Theresa May’s botched Brexit deal.\\\\n\\\\nShe's running scared of a vote on her Brexit deal – because she knows she will lose.\\\\n\\\\n[url]\",\n",
       " \"It's unacceptable for Parliament to have to wait another month to vote on Theresa May’s botched Brexit deal.\\\\n\\\\nShe's running scared of a vote on her Brexit deal – because she knows she will lose.\\\\n\\\\n[url]\",\n",
       " \"It's unacceptable for Parliament to have to wait another month to vote on Theresa May’s botched Brexit deal.\\\\n\\\\nShe's running scared of a vote on her Brexit deal – because she knows she will lose.\\\\n\\\\n[url]\",\n",
       " 'What a waste of @usermention readers’ money when we know Parliament would block no deal & Govt could bring vote on May’s botched #brexit deal to Commons this week. #peoplesvote [url]',\n",
       " \"It is unacceptable for the country to wait another month before Parliament has the chance to vote on Theresa May's botched deal.\\\\n\\\\nTherefore I have tabled a motion of no confidence in the PM this evening, so Parliament can take back control. #NoConfidence [url]\",\n",
       " \"It is unacceptable for the country to wait another month before Parliament has the chance to vote on Theresa May's botched deal.\\\\n\\\\nTherefore I have tabled a motion of no confidence in the PM this evening, so Parliament can take back control. #NoConfidence [url]\",\n",
       " \"It is unacceptable for the country to wait another month before Parliament has the chance to vote on Theresa May's botched deal.\\\\n\\\\nTherefore I have tabled a motion of no confidence in the PM this evening, so Parliament can take back control. #NoConfidence [url]\",\n",
       " \"It is unacceptable for the country to wait another month before Parliament has the chance to vote on Theresa May's botched deal.\\\\n\\\\nTherefore I have tabled a motion of no confidence in the PM this evening, so Parliament can take back control. #NoConfidence [url]\",\n",
       " \"Today the Tories have been dragged kicking and screaming to announce a date to vote on Theresa May's botched Brexit deal. [url]\",\n",
       " \"Today the Tories have been dragged kicking and screaming to announce a date to vote on Theresa May's botched Brexit deal. [url]\",\n",
       " 'While the Government is locked in chaos over its botched Brexit negotiations, the NHS is being neglected.\\\\n\\\\n[url]',\n",
       " 'While the Government is locked in chaos over its botched Brexit negotiations, the NHS is being neglected.\\\\n\\\\n[url]',\n",
       " \"Any chance of a non brexit RT @usermention @usermention @usermention @usermention @usermention @usermention @usermention it's #LocalCharitiesDay small local charities keep our communities going. So many ways we can help them including volunteering\\\\n\\\\n[url]\",\n",
       " \"It's clear after Theresa May went back to Brussels today that there'll be no changes to her botched Brexit deal.\\\\n\\\\nThere must be no more delays or attempts to run down the clock to deny Parliament alternative options.\\\\n\\\\nThere's no time to waste and Parliament must take back control\",\n",
       " \"It's clear after Theresa May went back to Brussels today that there'll be no changes to her botched Brexit deal.\\\\n\\\\nThere must be no more delays or attempts to run down the clock to deny Parliament alternative options.\\\\n\\\\nThere's no time to waste and Parliament must take back control\",\n",
       " \"I spoke to @usermention about the constant Tory U-turns and botched Brexit that have left the whole country in a state of uncertainty. Last night's vote only further proves that the Government cannot effectively function. \\\\nLISTEN from 33[emoji][emoji]\",\n",
       " \"Tonight's vote changes nothing.\\\\n\\\\nTheresa May has lost her majority in Parliament, her Government is in chaos and she's unable to deliver a Brexit deal that works for the country and puts jobs and the economy first.\\\\n\\\\nShe must now bring her botched deal back to Parliament next week\",\n",
       " \"Tonight's vote changes nothing.\\\\n\\\\nTheresa May has lost her majority in Parliament, her Government is in chaos and she's unable to deliver a Brexit deal that works for the country and puts jobs and the economy first.\\\\n\\\\nShe must now bring her botched deal back to Parliament next week\",\n",
       " 'Tonight we should be voting on Theresa May’s botched Brexit deal but to avoid a resounding defeat she pulled the vote at the very last minute. [url]',\n",
       " \"I wish @usermention would stop saying May's botched deal will give certainty. It won't!\",\n",
       " 'This reveals a government deeply paranoid and insecure about the botched deal they have been trying to sell to the British public, but which they now appear to have abandoned. \\\\n[url]',\n",
       " 'Corbyn says govt in disarray, asking if PM can be clear, is she ready to drop her red lines to make progress? Will she bring back the same botched deal this month or in January?',\n",
       " 'Given it’s clear Parliament won’t support May’s botched #brexit deal Labour must call an immediate confidence vote & if that fails the question should be put back to the public in a #PeoplesVote',\n",
       " 'Given it’s clear Parliament won’t support May’s botched #brexit deal Labour must call an immediate confidence vote & if that fails the question should be put back to the public in a #PeoplesVote',\n",
       " 'Just read @usermention’s speech in the brexit debate yesterday. Well said! Glad to have an MP who stands up for the needs of local residents and businesses so unequivocally [url]',\n",
       " 'Great that Jezz @usermention is in Portugal discussing @usermention brexit position.\\\\n\\\\nJobs, workers rights, the economy, security, the environment\\\\nEuropean solidarity ! All so important.\\\\n\\\\n@usermention step aside we’re demanding a #GeneralElection\\\\n\\\\n[url]',\n",
       " 'The whole #Brexit process has been blurred, botched and bungled from the very start. Never has so much diplomatic and political capital been expended for such little result. I cannot vote for a deal that has only created division,, discord and will make our country poorer. (2/2) [url]',\n",
       " 'The whole #Brexit process has been blurred, botched and bungled from the very start. Never has so much diplomatic and political capital been expended for such little result. I cannot vote for a deal that has only created division,, discord and will make our country poorer. (1/2) [url]',\n",
       " \"Theresa May's botched Brexit deal is the worst-of-all-worlds - it works for nobody, whether they voted leave or remain.\\\\n\\\\nThat's why Labour will vote against it on Tuesday.\\\\n\\\\nMy article[emoji]\",\n",
       " \"Theresa May's botched Brexit deal is the worst-of-all-worlds - it works for nobody, whether they voted leave or remain.\\\\n\\\\nThat's why Labour will vote against it on Tuesday.\\\\n\\\\nMy article[emoji]\",\n",
       " \"Theresa May's botched Brexit deal is the worst-of-all-worlds - it works for nobody, whether they voted leave or remain.\\\\n\\\\nThat's why Labour will vote against it on Tuesday.\\\\n\\\\nMy article[emoji]\",\n",
       " \"Theresa May's botched Brexit deal is the worst-of-all-worlds - it works for nobody, whether they voted leave or remain.\\\\n\\\\nThat's why Labour will vote against it on Tuesday.\\\\n\\\\nMy article[emoji]\",\n",
       " 'The entire Brexit process has been  botched and bungled from day one says @usermention we must have a strong and stable relationship with Europe going forward',\n",
       " \"I cannot support this Government's blind botched brexit deal - Just a flavour of my speech today in the #BrexitDebate [url]\",\n",
       " 'Here’s the briefing note and suggested interventions for Tory MPs for the economy brexit debate [url]',\n",
       " '“The Tories are so trapped in a crisis of their own making over their botched Brexit negotiations that they are neglecting the needs of the country.\" - @usermention responds to the local government settlement delay [url]',\n",
       " \"Today full service Universal Credit is rolled out across Liverpool. The Government's botched welfare policy will inflict misery on the most vulnerable people right before Christmas. It can and must be stopped. [url]\",\n",
       " 'Unlike \\u2066@usermention\\u2069 I have been listening to businesses in #CardiffCentral throughout her botched negotiations & they are very clear - reject her deal #Brexit [url]',\n",
       " 'Prime Minister refusing to rule out further delay in a vote on her botched Brexit deal. She’s the one who’s bottled it as she knows she will lose.',\n",
       " 'A botched Tory #Brexit has seen Britain slip from the world’s 5th biggest economy, to 6th and now to 7th. [url] [url]',\n",
       " \"It's unacceptable for the country to wait another month to vote on Theresa May’s botched Brexit deal.\\\\n\\\\nShe's running scared of a vote on her Brexit deal – because she knows she will lose. [url]\",\n",
       " \"It's unacceptable for Parliament to have to wait another month to vote on Theresa May’s botched Brexit deal.\\\\n\\\\nShe's running scared of a vote on her Brexit deal – because she knows she will lose.\\\\n\\\\n[url]\",\n",
       " 'All part of the brinksmanship designed to blackmail MPs into voting for the government’s botched deal. I’m not buying it. Trouble is it’s costing our country billions as the price of #ToryBrexitChaos [url]',\n",
       " \"It's unacceptable for the country to wait another month to vote on Theresa May’s botched Brexit deal.\\\\n\\\\nShe's running scared of a vote on her Brexit deal – because she knows she will lose. [url]\",\n",
       " 'The Govt is about to waste £2bn of public money to pretend the only alternative to May’s botched Brexit deal is no deal. Meanwhile children and families will be left homeless and penniless this Christmas because of Tory welfare cuts',\n",
       " \"It is unacceptable for the country to wait another month before Parliament has the chance to vote on Theresa May's botched deal.\\\\n\\\\nTherefore I have tabled a motion of no confidence in the PM this evening, so Parliament can take back control. #NoConfidence [url]\",\n",
       " \"It is unacceptable for the country to wait another month before Parliament has the chance to vote on Theresa May's botched deal.\\\\n\\\\nTherefore I have tabled a motion of no confidence in the PM this evening, so Parliament can take back control. #NoConfidence [url]\",\n",
       " \"It is unacceptable for the country to wait another month before Parliament has the chance to vote on Theresa May's botched deal.\\\\n\\\\nTherefore I have tabled a motion of no confidence in the PM this evening, so Parliament can take back control. #NoConfidence [url]\",\n",
       " \"It is unacceptable for the country to wait another month before Parliament has the chance to vote on Theresa May's botched deal.\\\\n\\\\nTherefore I have tabled a motion of no confidence in the PM this evening, so Parliament can take back control. #NoConfidence [url]\",\n",
       " \"Yesterday I held a drop-in session on Brexit for constituents of #Battersea.\\\\n\\\\nThere is clear alarm at the Tory government's shambolic handling of Brexit & the contempt they have shown to Parliament.\\\\n\\\\nParliament MUST be given a meaningful vote on the Tory's botched Brexit deal. [url]\",\n",
       " \"It's clear after Theresa May went back to Brussels today that there'll be no changes to her botched Brexit deal.\\\\n\\\\nThere must be no more delays or attempts to run down the clock to deny Parliament alternative options.\\\\n\\\\nThere's no time to waste and Parliament must take back control\",\n",
       " \"It's clear after Theresa May went back to Brussels today that there'll be no changes to her botched Brexit deal.\\\\n\\\\nThere must be no more delays or attempts to run down the clock to deny Parliament alternative options.\\\\n\\\\nThere's no time to waste and Parliament must take back control\",\n",
       " \"It's clear after Theresa May went back to Brussels today that there'll be no changes to her botched Brexit deal.\\\\n\\\\nThere must be no more delays or attempts to run down the clock to deny Parliament alternative options.\\\\n\\\\nThere's no time to waste and Parliament must take back control\",\n",
       " 'Get used to announcements like this. There will be more from 1 January as businesses begin to kick in their no deal plans. All down to botched handling of Brexit by this Conservative Government. Not good. [url]',\n",
       " 'Very pleased to welcome Ed and Chris to Parliament yesterday, two young people from Battersea alarmed at the recklessness of the Conservatives’ handling of Brexit.\\\\n\\\\nI assured them that I would do all I can to prevent a disastrous no deal or a botched Tory deal. [url]',\n",
       " \"Tonight's vote changes nothing.\\\\n\\\\nTheresa May has lost her majority in Parliament, her Government is in chaos and she's unable to deliver a Brexit deal that works for the country and puts jobs and the economy first.\\\\n\\\\nShe must now bring her botched deal back to Parliament next week\",\n",
       " \"Tonight's vote changes nothing.\\\\n\\\\nTheresa May has lost her majority in Parliament, her Government is in chaos and she's unable to deliver a Brexit deal that works for the country and puts jobs and the economy first.\\\\n\\\\nShe must now bring her botched deal back to Parliament next week\",\n",
       " \"Tonight's vote changes nothing.\\\\n\\\\nTheresa May has lost her majority in Parliament, her Government is in chaos and she's unable to deliver a Brexit deal that works for the country and puts jobs and the economy first.\\\\n\\\\nShe must now bring her botched deal back to Parliament next week\",\n",
       " \"Tonight's vote changes nothing.\\\\n\\\\nTheresa May has lost her majority in Parliament, her Government is in chaos and she's unable to deliver a Brexit deal that works for the country and puts jobs and the economy first.\\\\n\\\\nShe must now bring her botched deal back to Parliament next week\",\n",
       " \"Tonight's vote changes nothing.\\\\n\\\\nTheresa May has lost her majority in Parliament, her Government is in chaos and she's unable to deliver a Brexit deal that works for the country and puts jobs and the economy first.\\\\n\\\\nShe must now bring her botched deal back to Parliament next week\",\n",
       " 'Tonight we should be voting on Theresa May’s botched Brexit deal but to avoid a resounding defeat she pulled the vote at the very last minute. [url]',\n",
       " 'Tonight we should be voting on Theresa May’s botched Brexit deal but to avoid a resounding defeat she pulled the vote at the very last minute. [url]',\n",
       " 'great to hear @usermention & @usermention speaking up for #PeoplesVote. Time for the public to #takebackcontrol of the utter brexit shambles. There will be no parliamentary consensus with either @usermention or the brexit nutters in charge.Her craporama deal or #remain? We can decide.',\n",
       " 'Given it’s clear Parliament won’t support May’s botched #brexit deal Labour must call an immediate confidence vote & if that fails the question should be put back to the public in a #PeoplesVote',\n",
       " \"Refreshing debate on @usermention this morning with @usermention and @usermention. They both debated #brexit like adults and respected each others position. Was good to hear, rather than usual tantrums and name calling we've come to expect from brexit discussions. \\\\n #radio4today\",\n",
       " \"The Prime Minister's botched Brexit deal will make us worse off. It will not bring the country together.\\\\n\\\\nI will vote against it. [url]\",\n",
       " \"Theresa May's botched Brexit deal is the worst-of-all-worlds - it works for nobody, whether they voted leave or remain.\\\\n\\\\nThat's why Labour will vote against it on Tuesday.\\\\n\\\\nMy article[emoji]\",\n",
       " \"Theresa May's botched Brexit deal is the worst-of-all-worlds - it works for nobody, whether they voted leave or remain.\\\\n\\\\nThat's why Labour will vote against it on Tuesday.\\\\n\\\\nMy article[emoji]\",\n",
       " 'This is a good guide to the constitutional chaos Theresa May is about to unleash on the country because of her botched handling of Brexit. Have a look at what could happen next  [url]',\n",
       " \"Theresa May's botched Brexit deal is the worst-of-all-worlds - it works for nobody, whether they voted leave or remain.\\\\n\\\\nThat's why Labour will vote against it on Tuesday.\\\\n\\\\nMy article[emoji]\",\n",
       " \"I cannot support this Government's blind botched brexit deal - Just a flavour of my speech today in the #BrexitDebate [url]\",\n",
       " \"This botched Brexit deal is the result of 2 years of shambolic negotiations. It won't protect rights, jobs, or the economy.\\\\n\\\\nIt is a miserable failure, from a miserable failing Tory government. \\\\n\\\\nFrom my speech today [emoji][emoji]\",\n",
       " 'Deal, No Deal or staying in the EU? \\\\n\\\\n600/632 constituencies back stay. \\\\n\\\\nFor anyone who doesn’t agree with the numbers - there is an indisputable way to judge how the British public feel about this bad brexit deal...\\\\n\\\\n#PeoplesVote \\\\n#FFS [url]',\n",
       " '“The Tories are so trapped in a crisis of their own making over their botched Brexit negotiations that they are neglecting the needs of the country.\" - @usermention responds to the local government settlement delay [url]',\n",
       " 'Unlike \\u2066@usermention\\u2069 I have been listening to businesses in #CardiffCentral throughout her botched negotiations & they are very clear - reject her deal #Brexit [url]',\n",
       " 'PM has a bloody cheek to say it’s MPs causing uncertainty for business. She pulled the vote. She’s put forward her botched #BrexitDeal - she is responsible, no one else. Appeasing her party, while damaging our country. #PMQs',\n",
       " \"It's unacceptable for Parliament to have to wait another month to vote on Theresa May’s botched Brexit deal.\\\\n\\\\nShe's running scared of a vote on her Brexit deal – because she knows she will lose.\\\\n\\\\n[url]\",\n",
       " \"It's unacceptable for Parliament to have to wait another month to vote on Theresa May’s botched Brexit deal.\\\\n\\\\nShe's running scared of a vote on her Brexit deal – because she knows she will lose.\\\\n\\\\n[url]\",\n",
       " \"It's unacceptable for the country to wait another month to vote on Theresa May’s botched Brexit deal.\\\\n\\\\nShe's running scared of a vote on her Brexit deal – because she knows she will lose. [url]\",\n",
       " \"It is unacceptable for the country to wait another month before Parliament has the chance to vote on Theresa May's botched deal.\\\\n\\\\nTherefore I have tabled a motion of no confidence in the PM this evening, so Parliament can take back control. #NoConfidence [url]\",\n",
       " \"It is unacceptable for the country to wait another month before Parliament has the chance to vote on Theresa May's botched deal.\\\\n\\\\nTherefore I have tabled a motion of no confidence in the PM this evening, so Parliament can take back control. #NoConfidence [url]\",\n",
       " \"It is unacceptable for the country to wait another month before Parliament has the chance to vote on Theresa May's botched deal.\\\\n\\\\nTherefore I have tabled a motion of no confidence in the PM this evening, so Parliament can take back control. #NoConfidence [url]\",\n",
       " \"Devastating news for workers and their families going into the new year. Real worry that Workers are starting to feel the effects of uncertainty caused by the Government's botched Brexit deal amongst other factors.\\\\n\\\\n[url]\",\n",
       " \"It's clear after Theresa May went back to Brussels today that there'll be no changes to her botched Brexit deal.\\\\n\\\\nThere must be no more delays or attempts to run down the clock to deny Parliament alternative options.\\\\n\\\\nThere's no time to waste and Parliament must take back control\",\n",
       " \"Tonight's vote changes nothing.\\\\n\\\\nTheresa May has lost her majority in Parliament, her Government is in chaos and she's unable to deliver a Brexit deal that works for the country and puts jobs and the economy first.\\\\n\\\\nShe must now bring her botched deal back to Parliament next week\",\n",
       " \"Tonight's vote changes nothing.\\\\n\\\\nTheresa May has lost her majority in Parliament, her Government is in chaos and she's unable to deliver a Brexit deal that works for the country and puts jobs and the economy first.\\\\n\\\\nShe must now bring her botched deal back to Parliament next week\",\n",
       " '@usermention @usermention @usermention I was on the Ivory Bill Committee, I’m 100% behind saving elephants, but we would live with the consequences of a botched Brexit for generations - and have far less global influence on all sorts of things, including CITES, if we go it alone.',\n",
       " 'Corbyn says govt in disarray, asking if PM can be clear, is she ready to drop her red lines to make progress? Will she bring back the same botched deal this month or in January?',\n",
       " 'hey gobshite - @usermention - this is why corbyn is right to highlight poverty and not brexit at #PMQs - you think people like this wake up and check what backstop clause has passed through HoC??? get a grip you absolute fraud. [url]',\n",
       " \"Theresa May's botched Brexit deal is the worst-of-all-worlds - it works for nobody, whether they voted leave or remain.\\\\n\\\\nThat's why Labour will vote against it on Tuesday.\\\\n\\\\nMy article[emoji]\",\n",
       " \"Today full service Universal Credit is rolled out across Liverpool. The Government's botched welfare policy will inflict misery on the most vulnerable people right before Christmas. It can and must be stopped. [url]\",\n",
       " '@usermention absolutely right to highlight the awful impact of the botched #UniversalCredit rollout. The Prime Minister’s claim that all who need money are getting it is just nonsense. [url]',\n",
       " \"Our country deserves better than the Tories' botched Brexit deal.\\\\n\\\\nOne week today Labour will vote against it. [url]\",\n",
       " \"Our country deserves better than the Tories' botched Brexit deal.\\\\n\\\\nOne week today Labour will vote against it. [url]\",\n",
       " \"It's unacceptable for the country to wait another month to vote on Theresa May’s botched Brexit deal.\\\\n\\\\nShe's running scared of a vote on her Brexit deal – because she knows she will lose. [url]\",\n",
       " 'Watch my MP @usermention tell the Prime Minister to stop trying to intimidate Parliament in to choosing between her botched deal or a disastrous no deal. Threatening Parliament in this way is wrong. #Brexit [url]',\n",
       " \"Tonight's vote changes nothing.\\\\n\\\\nTheresa May has lost her majority in Parliament, her Government is in chaos and she's unable to deliver a Brexit deal that works for the country and puts jobs and the economy first.\\\\n\\\\nShe must now bring her botched deal back to Parliament next week\",\n",
       " \"Tonight's vote changes nothing.\\\\n\\\\nTheresa May has lost her majority in Parliament, her Government is in chaos and she's unable to deliver a Brexit deal that works for the country and puts jobs and the economy first.\\\\n\\\\nShe must now bring her botched deal back to Parliament next week\",\n",
       " \"theresa may??? theresa mayn't [url]\",\n",
       " 'Tonight we should be voting on Theresa May’s botched Brexit deal but to avoid a resounding defeat she pulled the vote at the very last minute. [url]',\n",
       " 'Tonight we should be voting on Theresa May’s botched Brexit deal but to avoid a resounding defeat she pulled the vote at the very last minute. [url]',\n",
       " \"Theresa May's botched Brexit deal is the worst-of-all-worlds - it works for nobody, whether they voted leave or remain.\\\\n\\\\nThat's why Labour will vote against it on Tuesday.\\\\n\\\\nMy article[emoji]\",\n",
       " 'Deal, No Deal or staying in the EU? \\\\n\\\\n600/632 constituencies back stay. \\\\n\\\\nFor anyone who doesn’t agree with the numbers - there is an indisputable way to judge how the British public feel about this bad brexit deal...\\\\n\\\\n#PeoplesVote \\\\n#FFS [url]',\n",
       " \"It's unacceptable for Parliament to have to wait another month to vote on Theresa May’s botched Brexit deal.\\\\nShe's running scared of a vote on her Brexit deal – because she knows she will lose.\\\\n\\\\n[url]\",\n",
       " 'The Govt is about to waste £2bn of public money to pretend the only alternative to May’s botched Brexit deal is no deal. Meanwhile children and families will be left homeless and penniless this Christmas because of Tory welfare cuts',\n",
       " \"It is unacceptable for the country to wait another month before Parliament has the chance to vote on Theresa May's botched deal.\\\\n\\\\nTherefore I have tabled a motion of no confidence in the PM this evening, so Parliament can take back control. #NoConfidence [url]\",\n",
       " \"It is unacceptable for the country to wait another month before Parliament has the chance to vote on Theresa May's botched deal.\\\\n\\\\nTherefore I have tabled a motion of no confidence in the PM this evening, so Parliament can take back control. #NoConfidence [url]\",\n",
       " \"Tonight's vote changes nothing.\\\\n\\\\nTheresa May has lost her majority in Parliament, her Government is in chaos and she's unable to deliver a Brexit deal that works for the country and puts jobs and the economy first.\\\\n\\\\nShe must now bring her botched deal back to Parliament next week\",\n",
       " \"Theresa May's botched Brexit deal is the worst-of-all-worlds - it works for nobody, whether they voted leave or remain.\\\\n\\\\nThat's why Labour will vote against it on Tuesday.\\\\n\\\\nMy article[emoji]\",\n",
       " '“The Tories are so trapped in a crisis of their own making over their botched Brexit negotiations that they are neglecting the needs of the country.\" - @usermention responds to the local government settlement delay [url]',\n",
       " \"It's unacceptable for Parliament to have to wait another month to vote on Theresa May’s botched Brexit deal.\\\\nShe's running scared of a vote on her Brexit deal – because she knows she will lose.\\\\n\\\\n[url]\",\n",
       " \"It's unacceptable for the country to wait another month to vote on Theresa May’s botched Brexit deal.\\\\n\\\\nShe's running scared of a vote on her Brexit deal – because she knows she will lose. [url]\",\n",
       " \"It's unacceptable for Parliament to have to wait another month to vote on Theresa May’s botched Brexit deal.\\\\n\\\\nShe's running scared of a vote on her Brexit deal – because she knows she will lose.\\\\n\\\\n[url]\",\n",
       " \"It's clear after Theresa May went back to Brussels today that there'll be no changes to her botched Brexit deal.\\\\n\\\\nThere must be no more delays or attempts to run down the clock to deny Parliament alternative options.\\\\n\\\\nThere's no time to waste and Parliament must take back control\",\n",
       " \"Our wonderful supporters busy with our brexitometer in Swansea city centre once again this weekend, and once again we met lots of people (and their pets) eager to explain to us why they've changed their minds on brexit and now want a #PeoplesVote [url]\",\n",
       " 'Gaynor voted leave, she was concerned about immigration, but she has now changed her mind and realised that brexit reality is very different from what she thought in 2016. She is a #RemainerNow and says many others in her area are the same.\\\\nMassive respect to Gaynor!\\\\n#PeoplesVote [url]',\n",
       " 'All part of the brinksmanship designed to blackmail MPs into voting for the government’s botched deal. I’m not buying it. Trouble is it’s costing our country billions as the price of #ToryBrexitChaos [url]',\n",
       " \"It's unacceptable for Parliament to have to wait another month to vote on the Tories’ botched Brexit deal because they know they will lose.\\\\n\\\\n[url]\",\n",
       " \"It's unacceptable for Parliament to have to wait another month to vote on Theresa May’s botched Brexit deal.\\\\n\\\\nShe's running scared of a vote on her Brexit deal – because she knows she will lose.\\\\n\\\\n[url]\",\n",
       " \"It's unacceptable for Parliament to have to wait another month to vote on Theresa May’s botched Brexit deal.\\\\n\\\\nShe's running scared of a vote on her Brexit deal – because she knows she will lose.\\\\n\\\\n[url]\",\n",
       " \"It is unacceptable for the country to wait another month before Parliament has the chance to vote on Theresa May's botched deal.\\\\n\\\\nTherefore I have tabled a motion of no confidence in the PM this evening, so Parliament can take back control. #NoConfidence [url]\",\n",
       " \"Today the Tories have been dragged kicking and screaming to announce a date to vote on Theresa May's botched Brexit deal. [url]\",\n",
       " \"Devastating news for workers and their families going into the new year. Real worry that Workers are starting to feel the effects of uncertainty caused by the Government's botched Brexit deal amongst other factors.\\\\n\\\\n[url]\",\n",
       " 'While the Government is locked in chaos over its botched Brexit negotiations, the NHS is being neglected.\\\\n\\\\n[url]',\n",
       " \"It's clear after Theresa May went back to Brussels today that there'll be no changes to her botched Brexit deal.\\\\n\\\\nThere must be no more delays or attempts to run down the clock to deny Parliament alternative options.\\\\n\\\\nThere's no time to waste and Parliament must take back control\",\n",
       " 'Tonight we should be voting on Theresa May’s botched Brexit deal but to avoid a resounding defeat she pulled the vote at the very last minute. [url]',\n",
       " \"Tonight's vote changes nothing.\\\\n\\\\nTheresa May has lost her majority in Parliament, her Government is in chaos and she's unable to deliver a Brexit deal that works for the country and puts jobs and the economy first.\\\\n\\\\nShe must now bring her botched deal back to Parliament next week\",\n",
       " 'Tonight we should be voting on Theresa May’s botched Brexit deal but to avoid a resounding defeat she pulled the vote at the very last minute. [url]',\n",
       " \"Theresa May's botched Brexit deal is the worst-of-all-worlds - it works for nobody, whether they voted leave or remain.\\\\n\\\\nThat's why Labour will vote against it on Tuesday.\\\\n\\\\nMy article[emoji]\",\n",
       " 'PM has a bloody cheek to say it’s MPs causing uncertainty for business. She pulled the vote. She’s put forward her botched #BrexitDeal - she is responsible, no one else. Appeasing her party, while damaging our country. #PMQs',\n",
       " \"It's unacceptable for Parliament to have to wait another month to vote on Theresa May’s botched Brexit deal.\\\\n\\\\nShe's running scared of a vote on her Brexit deal – because she knows she will lose.\\\\n\\\\n[url]\",\n",
       " 'Theresa May has been forced to bring her botched deal back to parliament thanks to Labour pressure',\n",
       " \"Tonight's vote changes nothing.\\\\n\\\\nTheresa May has lost her majority in Parliament, her Government is in chaos and she's unable to deliver a Brexit deal that works for the country and puts jobs and the economy first.\\\\n\\\\nShe must now bring her botched deal back to Parliament next week\",\n",
       " \"Theresa May's botched Brexit deal is the worst-of-all-worlds - it works for nobody, whether they voted leave or remain.\\\\n\\\\nThat's why Labour will vote against it on Tuesday.\\\\n\\\\nMy article[emoji]\",\n",
       " \"I will be voting against the Tories' bad brexit deal. [url]\",\n",
       " \"Of course her colleagues in govt relieved that she can try to carry on but it's a survival not success tonight - another big knock to the PM's credibility, and no solution at all to the gridlock in Parliament - she's survived, her brexit compromise can't in its current form\",\n",
       " \"Tonight's vote changes nothing.\\\\n\\\\nTheresa May has lost her majority in Parliament, her Government is in chaos and she's unable to deliver a Brexit deal that works for the country and puts jobs and the economy first.\\\\n\\\\nShe must now bring her botched deal back to Parliament next week\",\n",
       " \"It is unacceptable for the country to wait another month before Parliament has the chance to vote on Theresa May's botched deal.\\\\n\\\\nTherefore I have tabled a motion of no confidence in the PM this evening, so Parliament can take back control. #NoConfidence [url]\",\n",
       " \"It's clear after Theresa May went back to Brussels today that there'll be no changes to her botched Brexit deal.\\\\n\\\\nThere must be no more delays or attempts to run down the clock to deny Parliament alternative options.\\\\n\\\\nThere's no time to waste and Parliament must take back control\",\n",
       " \"Tonight's vote changes nothing.\\\\n\\\\nTheresa May has lost her majority in Parliament, her Government is in chaos and she's unable to deliver a Brexit deal that works for the country and puts jobs and the economy first.\\\\n\\\\nShe must now bring her botched deal back to Parliament next week\",\n",
       " \"Theresa May's botched Brexit deal is the worst-of-all-worlds - it works for nobody, whether they voted leave or remain.\\\\n\\\\nThat's why Labour will vote against it on Tuesday.\\\\n\\\\nMy article[emoji]\",\n",
       " \"Theresa May's botched Brexit deal is the worst-of-all-worlds - it works for nobody, whether they voted leave or remain.\\\\n\\\\nThat's why Labour will vote against it on Tuesday.\\\\n\\\\nMy article[emoji]\",\n",
       " \"It's unacceptable for Parliament to have to wait another month to vote on Theresa May’s botched Brexit deal.\\\\n\\\\nShe's running scared of a vote on her Brexit deal – because she knows she will lose.\\\\n\\\\n[url]\"]"
      ]
     },
     "execution_count": 4,
     "metadata": {},
     "output_type": "execute_result"
    }
   ],
   "source": [
    "eg_brexit = [any(item in i for item in ['brexit', 'botched', 'theresa']) for i in demojized_text_split]\n",
    "tweets_brexit = uk_data[eg_brexit]\n",
    "list(tweets_brexit['demojized_text'])"
   ]
  },
  {
   "cell_type": "markdown",
   "id": "2a8e587d",
   "metadata": {},
   "source": [
    "### Part 3 - Effect of spin on interactions on twitter\n",
    "\n",
    "Using our dictionary we label tweets as spin by adding an indicator variable to the data set. As an alternative approach, we also classify tweets as spin if they include a media attachment and construct a separate indicator variable for this.\n",
    "\n",
    "Using these proxies for spin, we build a regression model to measure the level of association between 'spin tweets' ($Spin_i == 1$) and the amount of activity the tweet creates. We focus on the likes to measure interactions as it is the most popular interaction among users. However, we also repeat our analysis on other measures of interaction like quotes, replies and retweets.\n",
    "\n",
    "Controls in our regression include the number of hashtags in the tweet ($Hashtags_i$), the length of the tweet ($Length_i$), the number of followers ($Followers_i$) of the politician and separate variables for the hour ($Hour_i$) and weekday ($Day_i$) of posting.\n",
    "\n",
    "Our regression model is expressed as:\n",
    "\n",
    "$$ln(interaction_{Ci}) = \\beta_0 + \\beta_1 Spin_{Pi} + \\beta_2 Hashtags_i + \\beta_3 Length_i + \\beta_4 Followers_i + \\beta_5 Hour_i + \\beta_6 Day_i$$\n",
    "\n",
    "\n",
    "The $C$ interaction types include:\n",
    "- Likes\n",
    "- Retweets\n",
    "- Quotes\n",
    "- Replys\n",
    "\n",
    "Indicators of spin content $P$ includes:\n",
    "- matching a spin word\n",
    "- media attachment\n",
    "\n",
    "The most popular politicians tend to have a higher number of interactions, which leads to correlated residuals within the cluster of tweets posted by a given politician. To address this problem, we use a cluster robust OLS model where the cluster identifier is the politician username."
   ]
  },
  {
   "cell_type": "markdown",
   "id": "f647ffa6",
   "metadata": {},
   "source": [
    "#### Spin indicator 1 - Matching at least one spin word (using the dictionary)\n",
    "\n",
    "Using our dictionary of 136 words to classify tweets as spin gives a total of 16.763 tweets (41%) labeled as spin. This classification method is positively correlated with the amount of activity associated with a tweet. We can see this in the plot below, which compares the median number of interactions for tweets classified as spin or not spin."
   ]
  },
  {
   "cell_type": "code",
   "execution_count": 5,
   "id": "6de19b3f",
   "metadata": {},
   "outputs": [
    {
     "data": {
      "image/png": "[encoded data removed]",
      "text/plain": [
       "<Figure size 864x504 with 1 Axes>"
      ]
     },
     "metadata": {},
     "output_type": "display_data"
    }
   ],
   "source": [
    "metrics_plot(uk_data_spin, 'dictionary_spin')"
   ]
  },
  {
   "cell_type": "code",
   "execution_count": 6,
   "id": "038dd498",
   "metadata": {},
   "outputs": [],
   "source": [
    "controls = ['hashtags_counts', 'tweet_length', 'author.public_metrics.followers_count', 'created_at_week_day', 'created_at_hour']"
   ]
  },
  {
   "cell_type": "markdown",
   "id": "d2f16a16",
   "metadata": {},
   "source": [
    "Next, we run our cluster robust OLS regressions with the controls mentioned above. We run four regressions - one for each type of interaction. On average, tweets labelled as spin by our dictionary generated around a third more likes and quotes. Replies and reweets increased by around a half. In all of the regressions, our spin indicator was highly statistically significant. "
   ]
  },
  {
   "cell_type": "code",
   "execution_count": 7,
   "id": "74b1b4d3",
   "metadata": {},
   "outputs": [
    {
     "name": "stdout",
     "output_type": "stream",
     "text": [
      "Robust cluster OLS over 31287 observations using public_metrics.like_count as target. On average the interactions increased 34.75% (p-value = 0.0). R2 = 0.101\n"
     ]
    }
   ],
   "source": [
    "results_11 = run_cluster_Robust_OLS(uk_data_spin, 'public_metrics.like_count', ['dictionary_spin'], controls, 'author.username')"
   ]
  },
  {
   "cell_type": "code",
   "execution_count": 8,
   "id": "057bd25f",
   "metadata": {},
   "outputs": [
    {
     "name": "stdout",
     "output_type": "stream",
     "text": [
      "Robust cluster OLS over 21002 observations using public_metrics.quote_count as target. On average the interactions increased 33.85% (p-value = 0.0). R2 = 0.048\n"
     ]
    }
   ],
   "source": [
    "results_12 =run_cluster_Robust_OLS(uk_data_spin, 'public_metrics.quote_count', ['dictionary_spin'], controls, 'author.username')"
   ]
  },
  {
   "cell_type": "code",
   "execution_count": 9,
   "id": "1244e871",
   "metadata": {},
   "outputs": [
    {
     "name": "stdout",
     "output_type": "stream",
     "text": [
      "Robust cluster OLS over 28654 observations using public_metrics.reply_count as target. On average the interactions increased 48.4% (p-value = 0.0). R2 = 0.067\n"
     ]
    }
   ],
   "source": [
    "results_13 = run_cluster_Robust_OLS(uk_data_spin, 'public_metrics.reply_count', ['dictionary_spin'], controls, 'author.username')"
   ]
  },
  {
   "cell_type": "code",
   "execution_count": 10,
   "id": "b998a7f0",
   "metadata": {},
   "outputs": [
    {
     "name": "stdout",
     "output_type": "stream",
     "text": [
      "Robust cluster OLS over 29873 observations using public_metrics.retweet_count as target. On average the interactions increased 44.84% (p-value = 0.0). R2 = 0.084\n"
     ]
    }
   ],
   "source": [
    "results_14 =run_cluster_Robust_OLS(uk_data_spin, 'public_metrics.retweet_count', ['dictionary_spin'], controls, 'author.username')"
   ]
  },
  {
   "cell_type": "markdown",
   "id": "9f8f5030",
   "metadata": {},
   "source": [
    "#### Spin indicator 2 - labelling tweets with media attachments as spin\n",
    "\n",
    "Tagging tweets based on the inclusion of a media attachments classified 7538 (18%) tweets as spin. Similar to with our dictionary, tweets tagged as spin under this method show increased interactions (see plot below)."
   ]
  },
  {
   "cell_type": "code",
   "execution_count": 11,
   "id": "824313f9",
   "metadata": {},
   "outputs": [
    {
     "data": {
      "image/png": "[encoded data removed]",
      "text/plain": [
       "<Figure size 864x504 with 1 Axes>"
      ]
     },
     "metadata": {},
     "output_type": "display_data"
    }
   ],
   "source": [
    "metrics_plot(uk_data_spin, 'media_spin')"
   ]
  },
  {
   "cell_type": "markdown",
   "id": "618abb6b",
   "metadata": {},
   "source": [
    "The resuls of our regressions here are less conclusive than under the dictionary method.\n",
    "\n",
    "Spin tweets here saw on average 50 per cent more likes and 20 per cent more replies than other tweets. Both of these coefficients are highly statistically significant. \n",
    "\n",
    "On the other hand, the coefficients for quotes and retweets were not statistically significant. Less precise estimates here could be due to the smaller sample of tweets under this method tagged as spin."
   ]
  },
  {
   "cell_type": "code",
   "execution_count": 12,
   "id": "1fd0c2cf",
   "metadata": {},
   "outputs": [
    {
     "name": "stdout",
     "output_type": "stream",
     "text": [
      "Robust cluster OLS over 31287 observations using public_metrics.like_count as target. On average the interactions increased 48.85% (p-value = 0.0). R2 = 0.105\n"
     ]
    }
   ],
   "source": [
    "results_21 = run_cluster_Robust_OLS(uk_data_spin, 'public_metrics.like_count', ['media_spin'], controls, 'author.username')"
   ]
  },
  {
   "cell_type": "code",
   "execution_count": 13,
   "id": "4cf0c1b5",
   "metadata": {},
   "outputs": [
    {
     "name": "stdout",
     "output_type": "stream",
     "text": [
      "Robust cluster OLS over 21002 observations using public_metrics.quote_count as target. On average the interactions increased -9.13% (p-value = 0.159). R2 = 0.042\n"
     ]
    }
   ],
   "source": [
    "results_22 = run_cluster_Robust_OLS(uk_data_spin, 'public_metrics.quote_count', ['media_spin'], controls, 'author.username')"
   ]
  },
  {
   "cell_type": "code",
   "execution_count": 14,
   "id": "78fad268",
   "metadata": {},
   "outputs": [
    {
     "name": "stdout",
     "output_type": "stream",
     "text": [
      "Robust cluster OLS over 28654 observations using public_metrics.reply_count as target. On average the interactions increased 18.96% (p-value = 0.003). R2 = 0.056\n"
     ]
    }
   ],
   "source": [
    "results_23 = run_cluster_Robust_OLS(uk_data_spin, 'public_metrics.reply_count', ['media_spin'], controls, 'author.username')"
   ]
  },
  {
   "cell_type": "code",
   "execution_count": 15,
   "id": "e1c0c9c7",
   "metadata": {},
   "outputs": [
    {
     "name": "stdout",
     "output_type": "stream",
     "text": [
      "Robust cluster OLS over 29873 observations using public_metrics.retweet_count as target. On average the interactions increased -4.45% (p-value = 0.422). R2 = 0.073\n"
     ]
    }
   ],
   "source": [
    "results_23 = run_cluster_Robust_OLS(uk_data_spin, 'public_metrics.retweet_count', ['media_spin'], controls, 'author.username')"
   ]
  }
 ],
 "metadata": {
  "kernelspec": {
   "display_name": "Python 3 (ipykernel)",
   "language": "python",
   "name": "python3"
  },
  "language_info": {
   "codemirror_mode": {
    "name": "ipython",
    "version": 3
   },
   "file_extension": ".py",
   "mimetype": "text/x-python",
   "name": "python",
   "nbconvert_exporter": "python",
   "pygments_lexer": "ipython3",
   "version": "3.9.5"
  }
 },
 "nbformat": 4,
 "nbformat_minor": 5
}
